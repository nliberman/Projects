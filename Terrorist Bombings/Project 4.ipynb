{
 "cells": [
  {
   "cell_type": "code",
   "execution_count": 1,
   "metadata": {
    "collapsed": true
   },
   "outputs": [],
   "source": [
    "import pandas as pd\n",
    "import matplotlib.pyplot as plt\n",
    "import seaborn as sns\n",
    "%matplotlib inline"
   ]
  },
  {
   "cell_type": "code",
   "execution_count": 2,
   "metadata": {
    "collapsed": false,
    "scrolled": false
   },
   "outputs": [
    {
     "name": "stderr",
     "output_type": "stream",
     "text": [
      "/Users/neil/anaconda/lib/python2.7/site-packages/IPython/core/interactiveshell.py:2717: DtypeWarning: Columns (4,61,62,66,116,117,123) have mixed types. Specify dtype option on import or set low_memory=False.\n",
      "  interactivity=interactivity, compiler=compiler, result=result)\n"
     ]
    },
    {
     "data": {
      "text/html": [
       "<div>\n",
       "<table border=\"1\" class=\"dataframe\">\n",
       "  <thead>\n",
       "    <tr style=\"text-align: right;\">\n",
       "      <th></th>\n",
       "      <th>eventid</th>\n",
       "      <th>iyear</th>\n",
       "      <th>imonth</th>\n",
       "      <th>iday</th>\n",
       "      <th>approxdate</th>\n",
       "      <th>extended</th>\n",
       "      <th>resolution</th>\n",
       "      <th>country</th>\n",
       "      <th>country_txt</th>\n",
       "      <th>region</th>\n",
       "      <th>...</th>\n",
       "      <th>addnotes</th>\n",
       "      <th>scite1</th>\n",
       "      <th>scite2</th>\n",
       "      <th>scite3</th>\n",
       "      <th>dbsource</th>\n",
       "      <th>INT_LOG</th>\n",
       "      <th>INT_IDEO</th>\n",
       "      <th>INT_MISC</th>\n",
       "      <th>INT_ANY</th>\n",
       "      <th>related</th>\n",
       "    </tr>\n",
       "  </thead>\n",
       "  <tbody>\n",
       "    <tr>\n",
       "      <th>0</th>\n",
       "      <td>197000000001</td>\n",
       "      <td>1970</td>\n",
       "      <td>0</td>\n",
       "      <td>0</td>\n",
       "      <td>NaN</td>\n",
       "      <td>0</td>\n",
       "      <td>NaN</td>\n",
       "      <td>58</td>\n",
       "      <td>Dominican Republic</td>\n",
       "      <td>2</td>\n",
       "      <td>...</td>\n",
       "      <td>NaN</td>\n",
       "      <td>NaN</td>\n",
       "      <td>NaN</td>\n",
       "      <td>NaN</td>\n",
       "      <td>PGIS</td>\n",
       "      <td>0</td>\n",
       "      <td>0</td>\n",
       "      <td>0</td>\n",
       "      <td>0</td>\n",
       "      <td>NaN</td>\n",
       "    </tr>\n",
       "    <tr>\n",
       "      <th>1</th>\n",
       "      <td>197000000002</td>\n",
       "      <td>1970</td>\n",
       "      <td>0</td>\n",
       "      <td>0</td>\n",
       "      <td>NaN</td>\n",
       "      <td>0</td>\n",
       "      <td>NaN</td>\n",
       "      <td>130</td>\n",
       "      <td>Mexico</td>\n",
       "      <td>1</td>\n",
       "      <td>...</td>\n",
       "      <td>NaN</td>\n",
       "      <td>NaN</td>\n",
       "      <td>NaN</td>\n",
       "      <td>NaN</td>\n",
       "      <td>PGIS</td>\n",
       "      <td>0</td>\n",
       "      <td>1</td>\n",
       "      <td>1</td>\n",
       "      <td>1</td>\n",
       "      <td>NaN</td>\n",
       "    </tr>\n",
       "    <tr>\n",
       "      <th>2</th>\n",
       "      <td>197001000001</td>\n",
       "      <td>1970</td>\n",
       "      <td>1</td>\n",
       "      <td>0</td>\n",
       "      <td>NaN</td>\n",
       "      <td>0</td>\n",
       "      <td>NaN</td>\n",
       "      <td>160</td>\n",
       "      <td>Philippines</td>\n",
       "      <td>5</td>\n",
       "      <td>...</td>\n",
       "      <td>NaN</td>\n",
       "      <td>NaN</td>\n",
       "      <td>NaN</td>\n",
       "      <td>NaN</td>\n",
       "      <td>PGIS</td>\n",
       "      <td>-9</td>\n",
       "      <td>-9</td>\n",
       "      <td>1</td>\n",
       "      <td>1</td>\n",
       "      <td>NaN</td>\n",
       "    </tr>\n",
       "  </tbody>\n",
       "</table>\n",
       "<p>3 rows × 137 columns</p>\n",
       "</div>"
      ],
      "text/plain": [
       "        eventid  iyear  imonth  iday approxdate  extended resolution  country  \\\n",
       "0  197000000001   1970       0     0        NaN         0        NaN       58   \n",
       "1  197000000002   1970       0     0        NaN         0        NaN      130   \n",
       "2  197001000001   1970       1     0        NaN         0        NaN      160   \n",
       "\n",
       "          country_txt  region   ...    addnotes scite1 scite2  scite3  \\\n",
       "0  Dominican Republic       2   ...         NaN    NaN    NaN     NaN   \n",
       "1              Mexico       1   ...         NaN    NaN    NaN     NaN   \n",
       "2         Philippines       5   ...         NaN    NaN    NaN     NaN   \n",
       "\n",
       "   dbsource  INT_LOG  INT_IDEO INT_MISC INT_ANY  related  \n",
       "0      PGIS        0         0        0       0      NaN  \n",
       "1      PGIS        0         1        1       1      NaN  \n",
       "2      PGIS       -9        -9        1       1      NaN  \n",
       "\n",
       "[3 rows x 137 columns]"
      ]
     },
     "execution_count": 2,
     "metadata": {},
     "output_type": "execute_result"
    }
   ],
   "source": [
    "df = pd.read_csv('../../../../datasets/globalterrorism.csv')\n",
    "df.head(3)"
   ]
  },
  {
   "cell_type": "code",
   "execution_count": 3,
   "metadata": {
    "collapsed": true
   },
   "outputs": [],
   "source": [
    "df['Incident'] = 1"
   ]
  },
  {
   "cell_type": "markdown",
   "metadata": {},
   "source": [
    "## df1 = Total Bombings by Year"
   ]
  },
  {
   "cell_type": "code",
   "execution_count": 4,
   "metadata": {
    "collapsed": false,
    "scrolled": true
   },
   "outputs": [],
   "source": [
    "df1 = pd.DataFrame(df[df.attacktype1_txt == 'Bombing/Explosion'].groupby('iyear').Incident.sum())\n",
    "df1.reset_index(inplace=True)"
   ]
  },
  {
   "cell_type": "code",
   "execution_count": 5,
   "metadata": {
    "collapsed": false
   },
   "outputs": [
    {
     "data": {
      "text/html": [
       "<div>\n",
       "<table border=\"1\" class=\"dataframe\">\n",
       "  <thead>\n",
       "    <tr style=\"text-align: right;\">\n",
       "      <th></th>\n",
       "      <th>iyear</th>\n",
       "      <th>Incident</th>\n",
       "    </tr>\n",
       "  </thead>\n",
       "  <tbody>\n",
       "    <tr>\n",
       "      <th>0</th>\n",
       "      <td>1970</td>\n",
       "      <td>333</td>\n",
       "    </tr>\n",
       "    <tr>\n",
       "      <th>1</th>\n",
       "      <td>1971</td>\n",
       "      <td>238</td>\n",
       "    </tr>\n",
       "    <tr>\n",
       "      <th>2</th>\n",
       "      <td>1972</td>\n",
       "      <td>186</td>\n",
       "    </tr>\n",
       "  </tbody>\n",
       "</table>\n",
       "</div>"
      ],
      "text/plain": [
       "   iyear  Incident\n",
       "0   1970       333\n",
       "1   1971       238\n",
       "2   1972       186"
      ]
     },
     "execution_count": 5,
     "metadata": {},
     "output_type": "execute_result"
    }
   ],
   "source": [
    "df1.head(3)"
   ]
  },
  {
   "cell_type": "code",
   "execution_count": 6,
   "metadata": {
    "collapsed": false
   },
   "outputs": [
    {
     "data": {
      "text/html": [
       "<div>\n",
       "<table border=\"1\" class=\"dataframe\">\n",
       "  <thead>\n",
       "    <tr style=\"text-align: right;\">\n",
       "      <th></th>\n",
       "      <th>iyear</th>\n",
       "      <th>Incident</th>\n",
       "    </tr>\n",
       "  </thead>\n",
       "  <tbody>\n",
       "    <tr>\n",
       "      <th>42</th>\n",
       "      <td>2013</td>\n",
       "      <td>6669</td>\n",
       "    </tr>\n",
       "    <tr>\n",
       "      <th>43</th>\n",
       "      <td>2014</td>\n",
       "      <td>8759</td>\n",
       "    </tr>\n",
       "    <tr>\n",
       "      <th>44</th>\n",
       "      <td>2015</td>\n",
       "      <td>7615</td>\n",
       "    </tr>\n",
       "  </tbody>\n",
       "</table>\n",
       "</div>"
      ],
      "text/plain": [
       "    iyear  Incident\n",
       "42   2013      6669\n",
       "43   2014      8759\n",
       "44   2015      7615"
      ]
     },
     "execution_count": 6,
     "metadata": {},
     "output_type": "execute_result"
    }
   ],
   "source": [
    "df1.tail(3)"
   ]
  },
  {
   "cell_type": "markdown",
   "metadata": {},
   "source": [
    "## df2 = Total Bombings by Year, Grouped by Region"
   ]
  },
  {
   "cell_type": "code",
   "execution_count": 7,
   "metadata": {
    "collapsed": false,
    "scrolled": true
   },
   "outputs": [
    {
     "data": {
      "text/plain": [
       "iyear  region_txt                 \n",
       "1970   Australasia & Oceania             1\n",
       "       Eastern Europe                    8\n",
       "       Middle East & North Africa       14\n",
       "       North America                   278\n",
       "       South America                    11\n",
       "       Southeast Asia                    6\n",
       "       Western Europe                   15\n",
       "1971   Australasia & Oceania             1\n",
       "       East Asia                         1\n",
       "       Middle East & North Africa       36\n",
       "       North America                   143\n",
       "       South America                     3\n",
       "       Southeast Asia                    3\n",
       "       Western Europe                   51\n",
       "1972   Australasia & Oceania             2\n",
       "       Central America & Caribbean       3\n",
       "       Eastern Europe                    1\n",
       "       Middle East & North Africa       23\n",
       "       North America                    40\n",
       "       South America                     8\n",
       "       Southeast Asia                    3\n",
       "       Western Europe                  106\n",
       "1973   Central America & Caribbean       1\n",
       "       Eastern Europe                    1\n",
       "       Middle East & North Africa       14\n",
       "       North America                    22\n",
       "       South America                    22\n",
       "       Southeast Asia                    1\n",
       "       Western Europe                   88\n",
       "1974   Central America & Caribbean       6\n",
       "                                      ... \n",
       "2013   East Asia                         3\n",
       "       Eastern Europe                   91\n",
       "       Middle East & North Africa     2915\n",
       "       North America                     9\n",
       "       South America                    92\n",
       "       South Asia                     2609\n",
       "       Southeast Asia                  467\n",
       "       Sub-Saharan Africa              323\n",
       "       Western Europe                  157\n",
       "2014   Central Asia                      3\n",
       "       East Asia                        26\n",
       "       Eastern Europe                  451\n",
       "       Middle East & North Africa     4419\n",
       "       North America                     5\n",
       "       South America                   150\n",
       "       South Asia                     2628\n",
       "       Southeast Asia                  428\n",
       "       Sub-Saharan Africa              543\n",
       "       Western Europe                  106\n",
       "2015   Australasia & Oceania             1\n",
       "       Central Asia                      1\n",
       "       East Asia                         7\n",
       "       Eastern Europe                  457\n",
       "       Middle East & North Africa     3872\n",
       "       North America                    19\n",
       "       South America                    86\n",
       "       South Asia                     2106\n",
       "       Southeast Asia                  436\n",
       "       Sub-Saharan Africa              522\n",
       "       Western Europe                  108\n",
       "Name: Incident, dtype: int64"
      ]
     },
     "execution_count": 7,
     "metadata": {},
     "output_type": "execute_result"
    }
   ],
   "source": [
    "df[df.attacktype1_txt == 'Bombing/Explosion'].groupby(['iyear','region_txt']).Incident.sum()"
   ]
  },
  {
   "cell_type": "code",
   "execution_count": 8,
   "metadata": {
    "collapsed": false,
    "scrolled": true
   },
   "outputs": [
    {
     "data": {
      "text/html": [
       "<div>\n",
       "<table border=\"1\" class=\"dataframe\">\n",
       "  <thead>\n",
       "    <tr style=\"text-align: right;\">\n",
       "      <th></th>\n",
       "      <th></th>\n",
       "      <th>Incident</th>\n",
       "    </tr>\n",
       "    <tr>\n",
       "      <th>iyear</th>\n",
       "      <th>region_txt</th>\n",
       "      <th></th>\n",
       "    </tr>\n",
       "  </thead>\n",
       "  <tbody>\n",
       "    <tr>\n",
       "      <th rowspan=\"11\" valign=\"top\">2015</th>\n",
       "      <th>Australasia &amp; Oceania</th>\n",
       "      <td>1</td>\n",
       "    </tr>\n",
       "    <tr>\n",
       "      <th>Central Asia</th>\n",
       "      <td>1</td>\n",
       "    </tr>\n",
       "    <tr>\n",
       "      <th>East Asia</th>\n",
       "      <td>7</td>\n",
       "    </tr>\n",
       "    <tr>\n",
       "      <th>Eastern Europe</th>\n",
       "      <td>457</td>\n",
       "    </tr>\n",
       "    <tr>\n",
       "      <th>Middle East &amp; North Africa</th>\n",
       "      <td>3872</td>\n",
       "    </tr>\n",
       "    <tr>\n",
       "      <th>North America</th>\n",
       "      <td>19</td>\n",
       "    </tr>\n",
       "    <tr>\n",
       "      <th>South America</th>\n",
       "      <td>86</td>\n",
       "    </tr>\n",
       "    <tr>\n",
       "      <th>South Asia</th>\n",
       "      <td>2106</td>\n",
       "    </tr>\n",
       "    <tr>\n",
       "      <th>Southeast Asia</th>\n",
       "      <td>436</td>\n",
       "    </tr>\n",
       "    <tr>\n",
       "      <th>Sub-Saharan Africa</th>\n",
       "      <td>522</td>\n",
       "    </tr>\n",
       "    <tr>\n",
       "      <th>Western Europe</th>\n",
       "      <td>108</td>\n",
       "    </tr>\n",
       "  </tbody>\n",
       "</table>\n",
       "</div>"
      ],
      "text/plain": [
       "                                  Incident\n",
       "iyear region_txt                          \n",
       "2015  Australasia & Oceania              1\n",
       "      Central Asia                       1\n",
       "      East Asia                          7\n",
       "      Eastern Europe                   457\n",
       "      Middle East & North Africa      3872\n",
       "      North America                     19\n",
       "      South America                     86\n",
       "      South Asia                      2106\n",
       "      Southeast Asia                   436\n",
       "      Sub-Saharan Africa               522\n",
       "      Western Europe                   108"
      ]
     },
     "execution_count": 8,
     "metadata": {},
     "output_type": "execute_result"
    }
   ],
   "source": [
    "df2 = pd.DataFrame(df[df.attacktype1_txt == 'Bombing/Explosion'].groupby(['iyear','region_txt']).Incident.sum())\n",
    "df2.tail(11)"
   ]
  },
  {
   "cell_type": "code",
   "execution_count": 9,
   "metadata": {
    "collapsed": false
   },
   "outputs": [],
   "source": [
    "df2.reset_index(inplace=True)"
   ]
  },
  {
   "cell_type": "code",
   "execution_count": 10,
   "metadata": {
    "collapsed": false
   },
   "outputs": [
    {
     "data": {
      "text/html": [
       "<div>\n",
       "<table border=\"1\" class=\"dataframe\">\n",
       "  <thead>\n",
       "    <tr style=\"text-align: right;\">\n",
       "      <th></th>\n",
       "      <th>iyear</th>\n",
       "      <th>region_txt</th>\n",
       "      <th>Incident</th>\n",
       "    </tr>\n",
       "  </thead>\n",
       "  <tbody>\n",
       "    <tr>\n",
       "      <th>0</th>\n",
       "      <td>1970</td>\n",
       "      <td>Australasia &amp; Oceania</td>\n",
       "      <td>1</td>\n",
       "    </tr>\n",
       "    <tr>\n",
       "      <th>1</th>\n",
       "      <td>1970</td>\n",
       "      <td>Eastern Europe</td>\n",
       "      <td>8</td>\n",
       "    </tr>\n",
       "    <tr>\n",
       "      <th>2</th>\n",
       "      <td>1970</td>\n",
       "      <td>Middle East &amp; North Africa</td>\n",
       "      <td>14</td>\n",
       "    </tr>\n",
       "    <tr>\n",
       "      <th>3</th>\n",
       "      <td>1970</td>\n",
       "      <td>North America</td>\n",
       "      <td>278</td>\n",
       "    </tr>\n",
       "    <tr>\n",
       "      <th>4</th>\n",
       "      <td>1970</td>\n",
       "      <td>South America</td>\n",
       "      <td>11</td>\n",
       "    </tr>\n",
       "    <tr>\n",
       "      <th>5</th>\n",
       "      <td>1970</td>\n",
       "      <td>Southeast Asia</td>\n",
       "      <td>6</td>\n",
       "    </tr>\n",
       "    <tr>\n",
       "      <th>6</th>\n",
       "      <td>1970</td>\n",
       "      <td>Western Europe</td>\n",
       "      <td>15</td>\n",
       "    </tr>\n",
       "    <tr>\n",
       "      <th>7</th>\n",
       "      <td>1971</td>\n",
       "      <td>Australasia &amp; Oceania</td>\n",
       "      <td>1</td>\n",
       "    </tr>\n",
       "    <tr>\n",
       "      <th>8</th>\n",
       "      <td>1971</td>\n",
       "      <td>East Asia</td>\n",
       "      <td>1</td>\n",
       "    </tr>\n",
       "    <tr>\n",
       "      <th>9</th>\n",
       "      <td>1971</td>\n",
       "      <td>Middle East &amp; North Africa</td>\n",
       "      <td>36</td>\n",
       "    </tr>\n",
       "  </tbody>\n",
       "</table>\n",
       "</div>"
      ],
      "text/plain": [
       "   iyear                  region_txt  Incident\n",
       "0   1970       Australasia & Oceania         1\n",
       "1   1970              Eastern Europe         8\n",
       "2   1970  Middle East & North Africa        14\n",
       "3   1970               North America       278\n",
       "4   1970               South America        11\n",
       "5   1970              Southeast Asia         6\n",
       "6   1970              Western Europe        15\n",
       "7   1971       Australasia & Oceania         1\n",
       "8   1971                   East Asia         1\n",
       "9   1971  Middle East & North Africa        36"
      ]
     },
     "execution_count": 10,
     "metadata": {},
     "output_type": "execute_result"
    }
   ],
   "source": [
    "df2.head(10)"
   ]
  },
  {
   "cell_type": "markdown",
   "metadata": {},
   "source": [
    "## df3 = Total Incidents by Region"
   ]
  },
  {
   "cell_type": "code",
   "execution_count": 11,
   "metadata": {
    "collapsed": false
   },
   "outputs": [
    {
     "data": {
      "text/html": [
       "<div>\n",
       "<table border=\"1\" class=\"dataframe\">\n",
       "  <thead>\n",
       "    <tr style=\"text-align: right;\">\n",
       "      <th></th>\n",
       "      <th>region_txt</th>\n",
       "      <th>Incident</th>\n",
       "    </tr>\n",
       "  </thead>\n",
       "  <tbody>\n",
       "    <tr>\n",
       "      <th>0</th>\n",
       "      <td>Australasia &amp; Oceania</td>\n",
       "      <td>72</td>\n",
       "    </tr>\n",
       "    <tr>\n",
       "      <th>1</th>\n",
       "      <td>Central America &amp; Caribbean</td>\n",
       "      <td>3239</td>\n",
       "    </tr>\n",
       "    <tr>\n",
       "      <th>2</th>\n",
       "      <td>Central Asia</td>\n",
       "      <td>224</td>\n",
       "    </tr>\n",
       "    <tr>\n",
       "      <th>3</th>\n",
       "      <td>East Asia</td>\n",
       "      <td>325</td>\n",
       "    </tr>\n",
       "    <tr>\n",
       "      <th>4</th>\n",
       "      <td>Eastern Europe</td>\n",
       "      <td>2665</td>\n",
       "    </tr>\n",
       "    <tr>\n",
       "      <th>5</th>\n",
       "      <td>Middle East &amp; North Africa</td>\n",
       "      <td>24053</td>\n",
       "    </tr>\n",
       "    <tr>\n",
       "      <th>6</th>\n",
       "      <td>North America</td>\n",
       "      <td>1518</td>\n",
       "    </tr>\n",
       "    <tr>\n",
       "      <th>7</th>\n",
       "      <td>South America</td>\n",
       "      <td>8931</td>\n",
       "    </tr>\n",
       "    <tr>\n",
       "      <th>8</th>\n",
       "      <td>South Asia</td>\n",
       "      <td>18247</td>\n",
       "    </tr>\n",
       "    <tr>\n",
       "      <th>9</th>\n",
       "      <td>Southeast Asia</td>\n",
       "      <td>4019</td>\n",
       "    </tr>\n",
       "    <tr>\n",
       "      <th>10</th>\n",
       "      <td>Sub-Saharan Africa</td>\n",
       "      <td>4316</td>\n",
       "    </tr>\n",
       "    <tr>\n",
       "      <th>11</th>\n",
       "      <td>Western Europe</td>\n",
       "      <td>8354</td>\n",
       "    </tr>\n",
       "  </tbody>\n",
       "</table>\n",
       "</div>"
      ],
      "text/plain": [
       "                     region_txt  Incident\n",
       "0         Australasia & Oceania        72\n",
       "1   Central America & Caribbean      3239\n",
       "2                  Central Asia       224\n",
       "3                     East Asia       325\n",
       "4                Eastern Europe      2665\n",
       "5    Middle East & North Africa     24053\n",
       "6                 North America      1518\n",
       "7                 South America      8931\n",
       "8                    South Asia     18247\n",
       "9                Southeast Asia      4019\n",
       "10           Sub-Saharan Africa      4316\n",
       "11               Western Europe      8354"
      ]
     },
     "execution_count": 11,
     "metadata": {},
     "output_type": "execute_result"
    }
   ],
   "source": [
    "df3 = pd.DataFrame(df2.groupby('region_txt').Incident.sum())\n",
    "df3.reset_index(inplace=True)\n",
    "df3.head(len(df3))"
   ]
  },
  {
   "cell_type": "markdown",
   "metadata": {},
   "source": [
    "sort by nearby years to see if there's some sort of pattern\n"
   ]
  },
  {
   "cell_type": "markdown",
   "metadata": {
    "collapsed": true
   },
   "source": [
    "## df4 = Incidents Per Year by Region"
   ]
  },
  {
   "cell_type": "code",
   "execution_count": 12,
   "metadata": {
    "collapsed": true
   },
   "outputs": [],
   "source": [
    "df4 = df3.copy()"
   ]
  },
  {
   "cell_type": "code",
   "execution_count": 13,
   "metadata": {
    "collapsed": true
   },
   "outputs": [],
   "source": [
    "df4['Incident Per Year'] = df4.Incident / 45"
   ]
  },
  {
   "cell_type": "code",
   "execution_count": 14,
   "metadata": {
    "collapsed": false
   },
   "outputs": [
    {
     "data": {
      "text/html": [
       "<div>\n",
       "<table border=\"1\" class=\"dataframe\">\n",
       "  <thead>\n",
       "    <tr style=\"text-align: right;\">\n",
       "      <th></th>\n",
       "      <th>region_txt</th>\n",
       "      <th>Incident</th>\n",
       "      <th>Incident Per Year</th>\n",
       "    </tr>\n",
       "  </thead>\n",
       "  <tbody>\n",
       "    <tr>\n",
       "      <th>0</th>\n",
       "      <td>Australasia &amp; Oceania</td>\n",
       "      <td>72</td>\n",
       "      <td>1.600000</td>\n",
       "    </tr>\n",
       "    <tr>\n",
       "      <th>1</th>\n",
       "      <td>Central America &amp; Caribbean</td>\n",
       "      <td>3239</td>\n",
       "      <td>71.977778</td>\n",
       "    </tr>\n",
       "    <tr>\n",
       "      <th>2</th>\n",
       "      <td>Central Asia</td>\n",
       "      <td>224</td>\n",
       "      <td>4.977778</td>\n",
       "    </tr>\n",
       "    <tr>\n",
       "      <th>3</th>\n",
       "      <td>East Asia</td>\n",
       "      <td>325</td>\n",
       "      <td>7.222222</td>\n",
       "    </tr>\n",
       "    <tr>\n",
       "      <th>4</th>\n",
       "      <td>Eastern Europe</td>\n",
       "      <td>2665</td>\n",
       "      <td>59.222222</td>\n",
       "    </tr>\n",
       "    <tr>\n",
       "      <th>5</th>\n",
       "      <td>Middle East &amp; North Africa</td>\n",
       "      <td>24053</td>\n",
       "      <td>534.511111</td>\n",
       "    </tr>\n",
       "    <tr>\n",
       "      <th>6</th>\n",
       "      <td>North America</td>\n",
       "      <td>1518</td>\n",
       "      <td>33.733333</td>\n",
       "    </tr>\n",
       "    <tr>\n",
       "      <th>7</th>\n",
       "      <td>South America</td>\n",
       "      <td>8931</td>\n",
       "      <td>198.466667</td>\n",
       "    </tr>\n",
       "    <tr>\n",
       "      <th>8</th>\n",
       "      <td>South Asia</td>\n",
       "      <td>18247</td>\n",
       "      <td>405.488889</td>\n",
       "    </tr>\n",
       "    <tr>\n",
       "      <th>9</th>\n",
       "      <td>Southeast Asia</td>\n",
       "      <td>4019</td>\n",
       "      <td>89.311111</td>\n",
       "    </tr>\n",
       "    <tr>\n",
       "      <th>10</th>\n",
       "      <td>Sub-Saharan Africa</td>\n",
       "      <td>4316</td>\n",
       "      <td>95.911111</td>\n",
       "    </tr>\n",
       "    <tr>\n",
       "      <th>11</th>\n",
       "      <td>Western Europe</td>\n",
       "      <td>8354</td>\n",
       "      <td>185.644444</td>\n",
       "    </tr>\n",
       "  </tbody>\n",
       "</table>\n",
       "</div>"
      ],
      "text/plain": [
       "                     region_txt  Incident  Incident Per Year\n",
       "0         Australasia & Oceania        72           1.600000\n",
       "1   Central America & Caribbean      3239          71.977778\n",
       "2                  Central Asia       224           4.977778\n",
       "3                     East Asia       325           7.222222\n",
       "4                Eastern Europe      2665          59.222222\n",
       "5    Middle East & North Africa     24053         534.511111\n",
       "6                 North America      1518          33.733333\n",
       "7                 South America      8931         198.466667\n",
       "8                    South Asia     18247         405.488889\n",
       "9                Southeast Asia      4019          89.311111\n",
       "10           Sub-Saharan Africa      4316          95.911111\n",
       "11               Western Europe      8354         185.644444"
      ]
     },
     "execution_count": 14,
     "metadata": {},
     "output_type": "execute_result"
    }
   ],
   "source": [
    "df4.head(len(df4))"
   ]
  },
  {
   "cell_type": "markdown",
   "metadata": {},
   "source": [
    "## Country Incident Took Place"
   ]
  },
  {
   "cell_type": "code",
   "execution_count": 15,
   "metadata": {
    "collapsed": false,
    "scrolled": false
   },
   "outputs": [
    {
     "data": {
      "text/plain": [
       "Peru                        658\n",
       "El Salvador                 500\n",
       "Colombia                    420\n",
       "India                       339\n",
       "Turkey                      293\n",
       "United Kingdom              262\n",
       "Philippines                 162\n",
       "Pakistan                    150\n",
       "France                      137\n",
       "South Africa                127\n",
       "Chile                       127\n",
       "Sri Lanka                   115\n",
       "Lebanon                      91\n",
       "Spain                        89\n",
       "West Bank and Gaza Strip     83\n",
       "Name: country_txt, dtype: int64"
      ]
     },
     "execution_count": 15,
     "metadata": {},
     "output_type": "execute_result"
    }
   ],
   "source": [
    "df[df.iyear==1991].country_txt.value_counts().head(15)"
   ]
  },
  {
   "cell_type": "code",
   "execution_count": 16,
   "metadata": {
    "collapsed": false
   },
   "outputs": [
    {
     "data": {
      "text/plain": [
       "Colombia                    523\n",
       "Turkey                      514\n",
       "Peru                        383\n",
       "United Kingdom              274\n",
       "South Africa                271\n",
       "India                       237\n",
       "Algeria                     215\n",
       "Philippines                 162\n",
       "Germany                     156\n",
       "France                      126\n",
       "West Bank and Gaza Strip    119\n",
       "Chile                       116\n",
       "Sri Lanka                   103\n",
       "Lebanon                      91\n",
       "Pakistan                     85\n",
       "Name: country_txt, dtype: int64"
      ]
     },
     "execution_count": 16,
     "metadata": {},
     "output_type": "execute_result"
    }
   ],
   "source": [
    "df[df.iyear==1992].country_txt.value_counts().head(15)"
   ]
  },
  {
   "cell_type": "code",
   "execution_count": 17,
   "metadata": {
    "collapsed": false
   },
   "outputs": [
    {
     "data": {
      "text/plain": [
       "Turkey                      300\n",
       "United Kingdom              256\n",
       "Algeria                     227\n",
       "Colombia                    201\n",
       "South Africa                174\n",
       "West Bank and Gaza Strip    165\n",
       "Pakistan                    154\n",
       "Egypt                       143\n",
       "India                       107\n",
       "France                       97\n",
       "Peru                         91\n",
       "Guatemala                    84\n",
       "Germany                      79\n",
       "Philippines                  72\n",
       "Bangladesh                   68\n",
       "Name: country_txt, dtype: int64"
      ]
     },
     "execution_count": 17,
     "metadata": {},
     "output_type": "execute_result"
    }
   ],
   "source": [
    "df[df.iyear==1994].country_txt.value_counts().head(15)"
   ]
  },
  {
   "cell_type": "markdown",
   "metadata": {},
   "source": [
    "## Region of Attack"
   ]
  },
  {
   "cell_type": "code",
   "execution_count": 18,
   "metadata": {
    "collapsed": false,
    "scrolled": true
   },
   "outputs": [
    {
     "data": {
      "text/plain": [
       "South America                  1076\n",
       "South Asia                      601\n",
       "Middle East & North Africa      494\n",
       "Sub-Saharan Africa              450\n",
       "Western Europe                  390\n",
       "Southeast Asia                  348\n",
       "Central America & Caribbean     316\n",
       "East Asia                        99\n",
       "Eastern Europe                   58\n",
       "North America                    37\n",
       "Name: region_txt, dtype: int64"
      ]
     },
     "execution_count": 18,
     "metadata": {},
     "output_type": "execute_result"
    }
   ],
   "source": [
    "df[df.iyear==1990].region_txt.value_counts().head(10)"
   ]
  },
  {
   "cell_type": "code",
   "execution_count": 19,
   "metadata": {
    "collapsed": false,
    "scrolled": true
   },
   "outputs": [
    {
     "data": {
      "text/plain": [
       "South America                  1322\n",
       "Central America & Caribbean     729\n",
       "Western Europe                  696\n",
       "South Asia                      677\n",
       "Middle East & North Africa      612\n",
       "Sub-Saharan Africa              271\n",
       "Southeast Asia                  206\n",
       "Eastern Europe                   84\n",
       "North America                    40\n",
       "East Asia                        29\n",
       "Name: region_txt, dtype: int64"
      ]
     },
     "execution_count": 19,
     "metadata": {},
     "output_type": "execute_result"
    }
   ],
   "source": [
    "df[df.iyear==1991].region_txt.value_counts().head(10)"
   ]
  },
  {
   "cell_type": "code",
   "execution_count": 20,
   "metadata": {
    "collapsed": false
   },
   "outputs": [
    {
     "data": {
      "text/plain": [
       "South America                  1204\n",
       "Middle East & North Africa     1193\n",
       "Western Europe                  769\n",
       "Sub-Saharan Africa              571\n",
       "South Asia                      545\n",
       "Southeast Asia                  279\n",
       "Central America & Caribbean     212\n",
       "Eastern Europe                   91\n",
       "Central Asia                     77\n",
       "East Asia                        74\n",
       "Name: region_txt, dtype: int64"
      ]
     },
     "execution_count": 20,
     "metadata": {},
     "output_type": "execute_result"
    }
   ],
   "source": [
    "df[df.iyear==1992].region_txt.value_counts().head(10)"
   ]
  },
  {
   "cell_type": "markdown",
   "metadata": {},
   "source": [
    "#### Pablo Escobar was killed in December of 93 so likely attacks were still high in 93 and didnt drop off til 94?"
   ]
  },
  {
   "cell_type": "code",
   "execution_count": 21,
   "metadata": {
    "collapsed": false
   },
   "outputs": [
    {
     "data": {
      "text/plain": [
       "Middle East & North Africa     1051\n",
       "Western Europe                  584\n",
       "Sub-Saharan Africa              433\n",
       "South Asia                      376\n",
       "South America                   373\n",
       "Central America & Caribbean     180\n",
       "Southeast Asia                  151\n",
       "North America                   102\n",
       "Eastern Europe                   95\n",
       "Central Asia                     65\n",
       "Name: region_txt, dtype: int64"
      ]
     },
     "execution_count": 21,
     "metadata": {},
     "output_type": "execute_result"
    }
   ],
   "source": [
    "df[df.iyear==1994].region_txt.value_counts().head(10)"
   ]
  },
  {
   "cell_type": "code",
   "execution_count": 22,
   "metadata": {
    "collapsed": false
   },
   "outputs": [
    {
     "data": {
      "text/plain": [
       "South Asia                     1051\n",
       "Middle East & North Africa      590\n",
       "Western Europe                  337\n",
       "South America                   255\n",
       "Sub-Saharan Africa              239\n",
       "Southeast Asia                  168\n",
       "Central America & Caribbean     168\n",
       "North America                    94\n",
       "Eastern Europe                   68\n",
       "Central Asia                     55\n",
       "Name: region_txt, dtype: int64"
      ]
     },
     "execution_count": 22,
     "metadata": {},
     "output_type": "execute_result"
    }
   ],
   "source": [
    "df[df.iyear==1995].region_txt.value_counts().head(10)"
   ]
  },
  {
   "cell_type": "markdown",
   "metadata": {},
   "source": [
    "## Terrorist Group"
   ]
  },
  {
   "cell_type": "code",
   "execution_count": 23,
   "metadata": {
    "collapsed": false,
    "scrolled": true
   },
   "outputs": [
    {
     "data": {
      "text/plain": [
       "Unknown                                                        1230\n",
       "Shining Path (SL)                                               371\n",
       "National Union for the Total Independence of Angola (UNITA)     197\n",
       "New People's Army (NPA)                                         183\n",
       "Farabundo Marti National Liberation Front (FMLN)                181\n",
       "Name: gname, dtype: int64"
      ]
     },
     "execution_count": 23,
     "metadata": {},
     "output_type": "execute_result"
    }
   ],
   "source": [
    "df[df.iyear==1990].gname.value_counts().head()"
   ]
  },
  {
   "cell_type": "markdown",
   "metadata": {},
   "source": [
    "## US Citizens Killed"
   ]
  },
  {
   "cell_type": "code",
   "execution_count": 24,
   "metadata": {
    "collapsed": false
   },
   "outputs": [
    {
     "data": {
      "text/plain": [
       "0.0    137\n",
       "1.0     16\n",
       "5.0      1\n",
       "3.0      1\n",
       "2.0      1\n",
       "Name: nkillus, dtype: int64"
      ]
     },
     "execution_count": 24,
     "metadata": {},
     "output_type": "execute_result"
    }
   ],
   "source": [
    "df[df.iyear==1992].nkillus.value_counts().head()"
   ]
  },
  {
   "cell_type": "code",
   "execution_count": 25,
   "metadata": {
    "collapsed": false
   },
   "outputs": [
    {
     "data": {
      "text/plain": [
       "0.0    128\n",
       "1.0     14\n",
       "3.0      1\n",
       "2.0      1\n",
       "Name: nkillus, dtype: int64"
      ]
     },
     "execution_count": 25,
     "metadata": {},
     "output_type": "execute_result"
    }
   ],
   "source": [
    "df[df.iyear==1994].nkillus.value_counts().head()"
   ]
  },
  {
   "cell_type": "markdown",
   "metadata": {},
   "source": [
    "## Target Type"
   ]
  },
  {
   "cell_type": "code",
   "execution_count": 26,
   "metadata": {
    "collapsed": false
   },
   "outputs": [
    {
     "data": {
      "text/plain": [
       "Private Citizens & Property       757\n",
       "Police                            533\n",
       "Business                          525\n",
       "Government (General)              514\n",
       "Military                          452\n",
       "Utilities                         378\n",
       "Transportation                    250\n",
       "Religious Figures/Institutions    106\n",
       "Educational Institution            78\n",
       "Government (Diplomatic)            58\n",
       "Violent Political Party            58\n",
       "Journalists & Media                54\n",
       "Terrorists/Non-State Militia       31\n",
       "Airports & Aircraft                22\n",
       "Telecommunication                  22\n",
       "Food or Water Supply               14\n",
       "Tourists                            9\n",
       "NGO                                 8\n",
       "Abortion Related                    8\n",
       "Other                               4\n",
       "Maritime                            3\n",
       "Unknown                             3\n",
       "Name: targtype1_txt, dtype: int64"
      ]
     },
     "execution_count": 26,
     "metadata": {},
     "output_type": "execute_result"
    }
   ],
   "source": [
    "df[df.iyear == 1990].targtype1_txt.value_counts()"
   ]
  },
  {
   "cell_type": "markdown",
   "metadata": {},
   "source": [
    "## Attack Type"
   ]
  },
  {
   "cell_type": "code",
   "execution_count": 27,
   "metadata": {
    "collapsed": false
   },
   "outputs": [
    {
     "data": {
      "text/plain": [
       "Bombing/Explosion                      1988\n",
       "Armed Assault                          1271\n",
       "Assassination                           730\n",
       "Facility/Infrastructure Attack          353\n",
       "Hostage Taking (Kidnapping)             222\n",
       "Unknown                                  64\n",
       "Hijacking                                25\n",
       "Hostage Taking (Barricade Incident)      16\n",
       "Unarmed Assault                          14\n",
       "Name: attacktype1_txt, dtype: int64"
      ]
     },
     "execution_count": 27,
     "metadata": {},
     "output_type": "execute_result"
    }
   ],
   "source": [
    "df[df.iyear == 1991].attacktype1_txt.value_counts()"
   ]
  },
  {
   "cell_type": "code",
   "execution_count": 28,
   "metadata": {
    "collapsed": false
   },
   "outputs": [
    {
     "data": {
      "text/plain": [
       "Bombing/Explosion                      1738\n",
       "Armed Assault                          1327\n",
       "Assassination                          1111\n",
       "Facility/Infrastructure Attack          473\n",
       "Unknown                                 188\n",
       "Hostage Taking (Kidnapping)             142\n",
       "Unarmed Assault                          48\n",
       "Hijacking                                24\n",
       "Hostage Taking (Barricade Incident)      22\n",
       "Name: attacktype1_txt, dtype: int64"
      ]
     },
     "execution_count": 28,
     "metadata": {},
     "output_type": "execute_result"
    }
   ],
   "source": [
    "df[df.iyear == 1992].attacktype1_txt.value_counts()"
   ]
  },
  {
   "cell_type": "code",
   "execution_count": 29,
   "metadata": {
    "collapsed": false
   },
   "outputs": [
    {
     "data": {
      "text/plain": [
       "Bombing/Explosion                      1153\n",
       "Armed Assault                           818\n",
       "Assassination                           771\n",
       "Unknown                                 204\n",
       "Hostage Taking (Kidnapping)             191\n",
       "Facility/Infrastructure Attack          189\n",
       "Unarmed Assault                          61\n",
       "Hijacking                                37\n",
       "Hostage Taking (Barricade Incident)      34\n",
       "Name: attacktype1_txt, dtype: int64"
      ]
     },
     "execution_count": 29,
     "metadata": {},
     "output_type": "execute_result"
    }
   ],
   "source": [
    "df[df.iyear == 1994].attacktype1_txt.value_counts()"
   ]
  },
  {
   "cell_type": "code",
   "execution_count": 30,
   "metadata": {
    "collapsed": false
   },
   "outputs": [
    {
     "data": {
      "text/plain": [
       "Bombing/Explosion                      791\n",
       "Armed Assault                          740\n",
       "Assassination                          729\n",
       "Facility/Infrastructure Attack         297\n",
       "Unknown                                232\n",
       "Hostage Taking (Kidnapping)            141\n",
       "Unarmed Assault                        108\n",
       "Hijacking                               30\n",
       "Hostage Taking (Barricade Incident)     13\n",
       "Name: attacktype1_txt, dtype: int64"
      ]
     },
     "execution_count": 30,
     "metadata": {},
     "output_type": "execute_result"
    }
   ],
   "source": [
    "df[df.iyear == 1995].attacktype1_txt.value_counts()"
   ]
  },
  {
   "cell_type": "markdown",
   "metadata": {},
   "source": [
    "## Bombings and Explosions Only - by Region"
   ]
  },
  {
   "cell_type": "code",
   "execution_count": 31,
   "metadata": {
    "collapsed": false
   },
   "outputs": [
    {
     "data": {
      "text/plain": [
       "region_txt                   attacktype1_txt  \n",
       "Australasia & Oceania        Bombing/Explosion      3\n",
       "Central America & Caribbean  Bombing/Explosion    295\n",
       "Central Asia                 Bombing/Explosion      2\n",
       "East Asia                    Bombing/Explosion      6\n",
       "Eastern Europe               Bombing/Explosion     38\n",
       "Middle East & North Africa   Bombing/Explosion    268\n",
       "North America                Bombing/Explosion     13\n",
       "South America                Bombing/Explosion    687\n",
       "South Asia                   Bombing/Explosion    208\n",
       "Southeast Asia               Bombing/Explosion     81\n",
       "Sub-Saharan Africa           Bombing/Explosion     46\n",
       "Western Europe               Bombing/Explosion    341\n",
       "Name: attacktype1_txt, dtype: int64"
      ]
     },
     "execution_count": 31,
     "metadata": {},
     "output_type": "execute_result"
    }
   ],
   "source": [
    "df[(df.iyear == 1991) & (df.attacktype1_txt == 'Bombing/Explosion')].groupby('region_txt').attacktype1_txt.value_counts()"
   ]
  },
  {
   "cell_type": "code",
   "execution_count": 32,
   "metadata": {
    "collapsed": false
   },
   "outputs": [
    {
     "data": {
      "text/plain": [
       "region_txt                   attacktype1_txt  \n",
       "Central America & Caribbean  Bombing/Explosion     74\n",
       "Central Asia                 Bombing/Explosion     24\n",
       "East Asia                    Bombing/Explosion     22\n",
       "Eastern Europe               Bombing/Explosion     40\n",
       "Middle East & North Africa   Bombing/Explosion    253\n",
       "North America                Bombing/Explosion      5\n",
       "South America                Bombing/Explosion    689\n",
       "South Asia                   Bombing/Explosion    131\n",
       "Southeast Asia               Bombing/Explosion     97\n",
       "Sub-Saharan Africa           Bombing/Explosion     96\n",
       "Western Europe               Bombing/Explosion    307\n",
       "Name: attacktype1_txt, dtype: int64"
      ]
     },
     "execution_count": 32,
     "metadata": {},
     "output_type": "execute_result"
    }
   ],
   "source": [
    "df[(df.iyear == 1992) & (df.attacktype1_txt == 'Bombing/Explosion')].groupby('region_txt').attacktype1_txt.value_counts()"
   ]
  },
  {
   "cell_type": "code",
   "execution_count": 33,
   "metadata": {
    "collapsed": false
   },
   "outputs": [
    {
     "data": {
      "text/plain": [
       "region_txt                   attacktype1_txt  \n",
       "Australasia & Oceania        Bombing/Explosion      4\n",
       "Central America & Caribbean  Bombing/Explosion     71\n",
       "Central Asia                 Bombing/Explosion     26\n",
       "East Asia                    Bombing/Explosion      6\n",
       "Eastern Europe               Bombing/Explosion     48\n",
       "Middle East & North Africa   Bombing/Explosion    292\n",
       "North America                Bombing/Explosion     19\n",
       "South America                Bombing/Explosion    180\n",
       "South Asia                   Bombing/Explosion    135\n",
       "Southeast Asia               Bombing/Explosion     49\n",
       "Sub-Saharan Africa           Bombing/Explosion     79\n",
       "Western Europe               Bombing/Explosion    244\n",
       "Name: attacktype1_txt, dtype: int64"
      ]
     },
     "execution_count": 33,
     "metadata": {},
     "output_type": "execute_result"
    }
   ],
   "source": [
    "df[(df.iyear == 1994) & (df.attacktype1_txt == 'Bombing/Explosion')].groupby('region_txt').attacktype1_txt.value_counts()"
   ]
  },
  {
   "cell_type": "code",
   "execution_count": 34,
   "metadata": {
    "collapsed": false
   },
   "outputs": [
    {
     "data": {
      "text/plain": [
       "region_txt                   attacktype1_txt  \n",
       "Australasia & Oceania        Bombing/Explosion      1\n",
       "Central America & Caribbean  Bombing/Explosion     30\n",
       "Central Asia                 Bombing/Explosion     13\n",
       "East Asia                    Bombing/Explosion     11\n",
       "Eastern Europe               Bombing/Explosion     32\n",
       "Middle East & North Africa   Bombing/Explosion    176\n",
       "North America                Bombing/Explosion     17\n",
       "South America                Bombing/Explosion     82\n",
       "South Asia                   Bombing/Explosion    175\n",
       "Southeast Asia               Bombing/Explosion     75\n",
       "Sub-Saharan Africa           Bombing/Explosion     55\n",
       "Western Europe               Bombing/Explosion    124\n",
       "Name: attacktype1_txt, dtype: int64"
      ]
     },
     "execution_count": 34,
     "metadata": {},
     "output_type": "execute_result"
    }
   ],
   "source": [
    "df[(df.iyear == 1995) & (df.attacktype1_txt == 'Bombing/Explosion')].groupby('region_txt').attacktype1_txt.value_counts()"
   ]
  },
  {
   "cell_type": "markdown",
   "metadata": {
    "collapsed": false
   },
   "source": [
    "## Total Count of Bombings and Explosions by Year"
   ]
  },
  {
   "cell_type": "code",
   "execution_count": 35,
   "metadata": {
    "collapsed": false
   },
   "outputs": [
    {
     "name": "stdout",
     "output_type": "stream",
     "text": [
      "1988\n",
      "1738\n",
      "1153\n",
      "791\n"
     ]
    }
   ],
   "source": [
    "print(len(df[(df.iyear == 1991) & (df.attacktype1_txt == 'Bombing/Explosion')].attacktype1))\n",
    "print(len(df[(df.iyear == 1992) & (df.attacktype1_txt == 'Bombing/Explosion')].attacktype1))\n",
    "print(len(df[(df.iyear == 1994) & (df.attacktype1_txt == 'Bombing/Explosion')].attacktype1))\n",
    "print(len(df[(df.iyear == 1995) & (df.attacktype1_txt == 'Bombing/Explosion')].attacktype1))"
   ]
  },
  {
   "cell_type": "markdown",
   "metadata": {},
   "source": [
    "## Bombings by Region from 91-95"
   ]
  },
  {
   "cell_type": "code",
   "execution_count": 36,
   "metadata": {
    "collapsed": true
   },
   "outputs": [],
   "source": [
    "bombings = pd.DataFrame()"
   ]
  },
  {
   "cell_type": "code",
   "execution_count": 37,
   "metadata": {
    "collapsed": true
   },
   "outputs": [],
   "source": [
    "temp1 = df[(df.iyear == 1991) & (df.attacktype1_txt == 'Bombing/Explosion')].groupby('region_txt').count()\n",
    "temp2 = df[(df.iyear == 1992) & (df.attacktype1_txt == 'Bombing/Explosion')].groupby('region_txt').count()\n",
    "temp4 = df[(df.iyear == 1994) & (df.attacktype1_txt == 'Bombing/Explosion')].groupby('region_txt').count()\n",
    "temp5 = df[(df.iyear == 1995) & (df.attacktype1_txt == 'Bombing/Explosion')].groupby('region_txt').count()"
   ]
  },
  {
   "cell_type": "code",
   "execution_count": 38,
   "metadata": {
    "collapsed": false
   },
   "outputs": [],
   "source": [
    "bombings['Bombings 1991'] = temp1['Incident']\n",
    "bombings['Bombings 1992'] = temp2['Incident']\n",
    "bombings['Bombings 1994'] = temp4['Incident']\n",
    "bombings['Bombings 1995'] = temp5['Incident']"
   ]
  },
  {
   "cell_type": "code",
   "execution_count": 39,
   "metadata": {
    "collapsed": true
   },
   "outputs": [],
   "source": [
    "bombings.fillna(value=0,inplace=True)"
   ]
  },
  {
   "cell_type": "code",
   "execution_count": 40,
   "metadata": {
    "collapsed": false
   },
   "outputs": [
    {
     "data": {
      "text/html": [
       "<div>\n",
       "<table border=\"1\" class=\"dataframe\">\n",
       "  <thead>\n",
       "    <tr style=\"text-align: right;\">\n",
       "      <th></th>\n",
       "      <th>Bombings 1991</th>\n",
       "      <th>Bombings 1992</th>\n",
       "      <th>Bombings 1994</th>\n",
       "      <th>Bombings 1995</th>\n",
       "    </tr>\n",
       "    <tr>\n",
       "      <th>region_txt</th>\n",
       "      <th></th>\n",
       "      <th></th>\n",
       "      <th></th>\n",
       "      <th></th>\n",
       "    </tr>\n",
       "  </thead>\n",
       "  <tbody>\n",
       "    <tr>\n",
       "      <th>Australasia &amp; Oceania</th>\n",
       "      <td>3</td>\n",
       "      <td>0.0</td>\n",
       "      <td>4</td>\n",
       "      <td>1</td>\n",
       "    </tr>\n",
       "    <tr>\n",
       "      <th>Central America &amp; Caribbean</th>\n",
       "      <td>295</td>\n",
       "      <td>74.0</td>\n",
       "      <td>71</td>\n",
       "      <td>30</td>\n",
       "    </tr>\n",
       "    <tr>\n",
       "      <th>Central Asia</th>\n",
       "      <td>2</td>\n",
       "      <td>24.0</td>\n",
       "      <td>26</td>\n",
       "      <td>13</td>\n",
       "    </tr>\n",
       "    <tr>\n",
       "      <th>East Asia</th>\n",
       "      <td>6</td>\n",
       "      <td>22.0</td>\n",
       "      <td>6</td>\n",
       "      <td>11</td>\n",
       "    </tr>\n",
       "    <tr>\n",
       "      <th>Eastern Europe</th>\n",
       "      <td>38</td>\n",
       "      <td>40.0</td>\n",
       "      <td>48</td>\n",
       "      <td>32</td>\n",
       "    </tr>\n",
       "    <tr>\n",
       "      <th>Middle East &amp; North Africa</th>\n",
       "      <td>268</td>\n",
       "      <td>253.0</td>\n",
       "      <td>292</td>\n",
       "      <td>176</td>\n",
       "    </tr>\n",
       "    <tr>\n",
       "      <th>North America</th>\n",
       "      <td>13</td>\n",
       "      <td>5.0</td>\n",
       "      <td>19</td>\n",
       "      <td>17</td>\n",
       "    </tr>\n",
       "    <tr>\n",
       "      <th>South America</th>\n",
       "      <td>687</td>\n",
       "      <td>689.0</td>\n",
       "      <td>180</td>\n",
       "      <td>82</td>\n",
       "    </tr>\n",
       "    <tr>\n",
       "      <th>South Asia</th>\n",
       "      <td>208</td>\n",
       "      <td>131.0</td>\n",
       "      <td>135</td>\n",
       "      <td>175</td>\n",
       "    </tr>\n",
       "    <tr>\n",
       "      <th>Southeast Asia</th>\n",
       "      <td>81</td>\n",
       "      <td>97.0</td>\n",
       "      <td>49</td>\n",
       "      <td>75</td>\n",
       "    </tr>\n",
       "    <tr>\n",
       "      <th>Sub-Saharan Africa</th>\n",
       "      <td>46</td>\n",
       "      <td>96.0</td>\n",
       "      <td>79</td>\n",
       "      <td>55</td>\n",
       "    </tr>\n",
       "    <tr>\n",
       "      <th>Western Europe</th>\n",
       "      <td>341</td>\n",
       "      <td>307.0</td>\n",
       "      <td>244</td>\n",
       "      <td>124</td>\n",
       "    </tr>\n",
       "  </tbody>\n",
       "</table>\n",
       "</div>"
      ],
      "text/plain": [
       "                             Bombings 1991  Bombings 1992  Bombings 1994  \\\n",
       "region_txt                                                                 \n",
       "Australasia & Oceania                    3            0.0              4   \n",
       "Central America & Caribbean            295           74.0             71   \n",
       "Central Asia                             2           24.0             26   \n",
       "East Asia                                6           22.0              6   \n",
       "Eastern Europe                          38           40.0             48   \n",
       "Middle East & North Africa             268          253.0            292   \n",
       "North America                           13            5.0             19   \n",
       "South America                          687          689.0            180   \n",
       "South Asia                             208          131.0            135   \n",
       "Southeast Asia                          81           97.0             49   \n",
       "Sub-Saharan Africa                      46           96.0             79   \n",
       "Western Europe                         341          307.0            244   \n",
       "\n",
       "                             Bombings 1995  \n",
       "region_txt                                  \n",
       "Australasia & Oceania                    1  \n",
       "Central America & Caribbean             30  \n",
       "Central Asia                            13  \n",
       "East Asia                               11  \n",
       "Eastern Europe                          32  \n",
       "Middle East & North Africa             176  \n",
       "North America                           17  \n",
       "South America                           82  \n",
       "South Asia                             175  \n",
       "Southeast Asia                          75  \n",
       "Sub-Saharan Africa                      55  \n",
       "Western Europe                         124  "
      ]
     },
     "execution_count": 40,
     "metadata": {},
     "output_type": "execute_result"
    }
   ],
   "source": [
    "bombings.head(len(bombings))"
   ]
  },
  {
   "cell_type": "code",
   "execution_count": 41,
   "metadata": {
    "collapsed": false
   },
   "outputs": [],
   "source": [
    "bombings = bombings.T"
   ]
  },
  {
   "cell_type": "code",
   "execution_count": 42,
   "metadata": {
    "collapsed": false
   },
   "outputs": [
    {
     "data": {
      "text/html": [
       "<div>\n",
       "<table border=\"1\" class=\"dataframe\">\n",
       "  <thead>\n",
       "    <tr style=\"text-align: right;\">\n",
       "      <th>region_txt</th>\n",
       "      <th>Australasia &amp; Oceania</th>\n",
       "      <th>Central America &amp; Caribbean</th>\n",
       "      <th>Central Asia</th>\n",
       "      <th>East Asia</th>\n",
       "      <th>Eastern Europe</th>\n",
       "      <th>Middle East &amp; North Africa</th>\n",
       "      <th>North America</th>\n",
       "      <th>South America</th>\n",
       "      <th>South Asia</th>\n",
       "      <th>Southeast Asia</th>\n",
       "      <th>Sub-Saharan Africa</th>\n",
       "      <th>Western Europe</th>\n",
       "    </tr>\n",
       "  </thead>\n",
       "  <tbody>\n",
       "    <tr>\n",
       "      <th>Bombings 1991</th>\n",
       "      <td>3.0</td>\n",
       "      <td>295.0</td>\n",
       "      <td>2.0</td>\n",
       "      <td>6.0</td>\n",
       "      <td>38.0</td>\n",
       "      <td>268.0</td>\n",
       "      <td>13.0</td>\n",
       "      <td>687.0</td>\n",
       "      <td>208.0</td>\n",
       "      <td>81.0</td>\n",
       "      <td>46.0</td>\n",
       "      <td>341.0</td>\n",
       "    </tr>\n",
       "    <tr>\n",
       "      <th>Bombings 1992</th>\n",
       "      <td>0.0</td>\n",
       "      <td>74.0</td>\n",
       "      <td>24.0</td>\n",
       "      <td>22.0</td>\n",
       "      <td>40.0</td>\n",
       "      <td>253.0</td>\n",
       "      <td>5.0</td>\n",
       "      <td>689.0</td>\n",
       "      <td>131.0</td>\n",
       "      <td>97.0</td>\n",
       "      <td>96.0</td>\n",
       "      <td>307.0</td>\n",
       "    </tr>\n",
       "    <tr>\n",
       "      <th>Bombings 1994</th>\n",
       "      <td>4.0</td>\n",
       "      <td>71.0</td>\n",
       "      <td>26.0</td>\n",
       "      <td>6.0</td>\n",
       "      <td>48.0</td>\n",
       "      <td>292.0</td>\n",
       "      <td>19.0</td>\n",
       "      <td>180.0</td>\n",
       "      <td>135.0</td>\n",
       "      <td>49.0</td>\n",
       "      <td>79.0</td>\n",
       "      <td>244.0</td>\n",
       "    </tr>\n",
       "    <tr>\n",
       "      <th>Bombings 1995</th>\n",
       "      <td>1.0</td>\n",
       "      <td>30.0</td>\n",
       "      <td>13.0</td>\n",
       "      <td>11.0</td>\n",
       "      <td>32.0</td>\n",
       "      <td>176.0</td>\n",
       "      <td>17.0</td>\n",
       "      <td>82.0</td>\n",
       "      <td>175.0</td>\n",
       "      <td>75.0</td>\n",
       "      <td>55.0</td>\n",
       "      <td>124.0</td>\n",
       "    </tr>\n",
       "  </tbody>\n",
       "</table>\n",
       "</div>"
      ],
      "text/plain": [
       "region_txt     Australasia & Oceania  Central America & Caribbean  \\\n",
       "Bombings 1991                    3.0                        295.0   \n",
       "Bombings 1992                    0.0                         74.0   \n",
       "Bombings 1994                    4.0                         71.0   \n",
       "Bombings 1995                    1.0                         30.0   \n",
       "\n",
       "region_txt     Central Asia  East Asia  Eastern Europe  \\\n",
       "Bombings 1991           2.0        6.0            38.0   \n",
       "Bombings 1992          24.0       22.0            40.0   \n",
       "Bombings 1994          26.0        6.0            48.0   \n",
       "Bombings 1995          13.0       11.0            32.0   \n",
       "\n",
       "region_txt     Middle East & North Africa  North America  South America  \\\n",
       "Bombings 1991                       268.0           13.0          687.0   \n",
       "Bombings 1992                       253.0            5.0          689.0   \n",
       "Bombings 1994                       292.0           19.0          180.0   \n",
       "Bombings 1995                       176.0           17.0           82.0   \n",
       "\n",
       "region_txt     South Asia  Southeast Asia  Sub-Saharan Africa  Western Europe  \n",
       "Bombings 1991       208.0            81.0                46.0           341.0  \n",
       "Bombings 1992       131.0            97.0                96.0           307.0  \n",
       "Bombings 1994       135.0            49.0                79.0           244.0  \n",
       "Bombings 1995       175.0            75.0                55.0           124.0  "
      ]
     },
     "execution_count": 42,
     "metadata": {},
     "output_type": "execute_result"
    }
   ],
   "source": [
    "bombings.head()"
   ]
  },
  {
   "cell_type": "code",
   "execution_count": 43,
   "metadata": {
    "collapsed": false
   },
   "outputs": [],
   "source": [
    "bombings['All'] = bombings.sum(axis=1)"
   ]
  },
  {
   "cell_type": "code",
   "execution_count": 44,
   "metadata": {
    "collapsed": false
   },
   "outputs": [
    {
     "data": {
      "text/html": [
       "<div>\n",
       "<table border=\"1\" class=\"dataframe\">\n",
       "  <thead>\n",
       "    <tr style=\"text-align: right;\">\n",
       "      <th>region_txt</th>\n",
       "      <th>Australasia &amp; Oceania</th>\n",
       "      <th>Central America &amp; Caribbean</th>\n",
       "      <th>Central Asia</th>\n",
       "      <th>East Asia</th>\n",
       "      <th>Eastern Europe</th>\n",
       "      <th>Middle East &amp; North Africa</th>\n",
       "      <th>North America</th>\n",
       "      <th>South America</th>\n",
       "      <th>South Asia</th>\n",
       "      <th>Southeast Asia</th>\n",
       "      <th>Sub-Saharan Africa</th>\n",
       "      <th>Western Europe</th>\n",
       "      <th>All</th>\n",
       "    </tr>\n",
       "  </thead>\n",
       "  <tbody>\n",
       "    <tr>\n",
       "      <th>Bombings 1991</th>\n",
       "      <td>3.0</td>\n",
       "      <td>295.0</td>\n",
       "      <td>2.0</td>\n",
       "      <td>6.0</td>\n",
       "      <td>38.0</td>\n",
       "      <td>268.0</td>\n",
       "      <td>13.0</td>\n",
       "      <td>687.0</td>\n",
       "      <td>208.0</td>\n",
       "      <td>81.0</td>\n",
       "      <td>46.0</td>\n",
       "      <td>341.0</td>\n",
       "      <td>1988.0</td>\n",
       "    </tr>\n",
       "    <tr>\n",
       "      <th>Bombings 1992</th>\n",
       "      <td>0.0</td>\n",
       "      <td>74.0</td>\n",
       "      <td>24.0</td>\n",
       "      <td>22.0</td>\n",
       "      <td>40.0</td>\n",
       "      <td>253.0</td>\n",
       "      <td>5.0</td>\n",
       "      <td>689.0</td>\n",
       "      <td>131.0</td>\n",
       "      <td>97.0</td>\n",
       "      <td>96.0</td>\n",
       "      <td>307.0</td>\n",
       "      <td>1738.0</td>\n",
       "    </tr>\n",
       "    <tr>\n",
       "      <th>Bombings 1994</th>\n",
       "      <td>4.0</td>\n",
       "      <td>71.0</td>\n",
       "      <td>26.0</td>\n",
       "      <td>6.0</td>\n",
       "      <td>48.0</td>\n",
       "      <td>292.0</td>\n",
       "      <td>19.0</td>\n",
       "      <td>180.0</td>\n",
       "      <td>135.0</td>\n",
       "      <td>49.0</td>\n",
       "      <td>79.0</td>\n",
       "      <td>244.0</td>\n",
       "      <td>1153.0</td>\n",
       "    </tr>\n",
       "    <tr>\n",
       "      <th>Bombings 1995</th>\n",
       "      <td>1.0</td>\n",
       "      <td>30.0</td>\n",
       "      <td>13.0</td>\n",
       "      <td>11.0</td>\n",
       "      <td>32.0</td>\n",
       "      <td>176.0</td>\n",
       "      <td>17.0</td>\n",
       "      <td>82.0</td>\n",
       "      <td>175.0</td>\n",
       "      <td>75.0</td>\n",
       "      <td>55.0</td>\n",
       "      <td>124.0</td>\n",
       "      <td>791.0</td>\n",
       "    </tr>\n",
       "  </tbody>\n",
       "</table>\n",
       "</div>"
      ],
      "text/plain": [
       "region_txt     Australasia & Oceania  Central America & Caribbean  \\\n",
       "Bombings 1991                    3.0                        295.0   \n",
       "Bombings 1992                    0.0                         74.0   \n",
       "Bombings 1994                    4.0                         71.0   \n",
       "Bombings 1995                    1.0                         30.0   \n",
       "\n",
       "region_txt     Central Asia  East Asia  Eastern Europe  \\\n",
       "Bombings 1991           2.0        6.0            38.0   \n",
       "Bombings 1992          24.0       22.0            40.0   \n",
       "Bombings 1994          26.0        6.0            48.0   \n",
       "Bombings 1995          13.0       11.0            32.0   \n",
       "\n",
       "region_txt     Middle East & North Africa  North America  South America  \\\n",
       "Bombings 1991                       268.0           13.0          687.0   \n",
       "Bombings 1992                       253.0            5.0          689.0   \n",
       "Bombings 1994                       292.0           19.0          180.0   \n",
       "Bombings 1995                       176.0           17.0           82.0   \n",
       "\n",
       "region_txt     South Asia  Southeast Asia  Sub-Saharan Africa  Western Europe  \\\n",
       "Bombings 1991       208.0            81.0                46.0           341.0   \n",
       "Bombings 1992       131.0            97.0                96.0           307.0   \n",
       "Bombings 1994       135.0            49.0                79.0           244.0   \n",
       "Bombings 1995       175.0            75.0                55.0           124.0   \n",
       "\n",
       "region_txt        All  \n",
       "Bombings 1991  1988.0  \n",
       "Bombings 1992  1738.0  \n",
       "Bombings 1994  1153.0  \n",
       "Bombings 1995   791.0  "
      ]
     },
     "execution_count": 44,
     "metadata": {},
     "output_type": "execute_result"
    }
   ],
   "source": [
    "bombings.head()"
   ]
  },
  {
   "cell_type": "code",
   "execution_count": 45,
   "metadata": {
    "collapsed": true
   },
   "outputs": [],
   "source": [
    "##bombings.to_csv('bombings.csv')"
   ]
  },
  {
   "cell_type": "markdown",
   "metadata": {},
   "source": [
    "## Average Bombings from 91-95 by Region"
   ]
  },
  {
   "cell_type": "code",
   "execution_count": 46,
   "metadata": {
    "collapsed": false
   },
   "outputs": [
    {
     "data": {
      "text/plain": [
       "region_txt\n",
       "Australasia & Oceania             2.00\n",
       "Central America & Caribbean     117.50\n",
       "Central Asia                     16.25\n",
       "East Asia                        11.25\n",
       "Eastern Europe                   39.50\n",
       "Middle East & North Africa      247.25\n",
       "North America                    13.50\n",
       "South America                   409.50\n",
       "South Asia                      162.25\n",
       "Southeast Asia                   75.50\n",
       "Sub-Saharan Africa               69.00\n",
       "Western Europe                  254.00\n",
       "All                            1417.50\n",
       "dtype: float64"
      ]
     },
     "execution_count": 46,
     "metadata": {},
     "output_type": "execute_result"
    }
   ],
   "source": [
    "import numpy as np\n",
    "avg = np.mean(bombings)\n",
    "avg"
   ]
  },
  {
   "cell_type": "markdown",
   "metadata": {},
   "source": [
    "## South America Bombings 1970-2015"
   ]
  },
  {
   "cell_type": "code",
   "execution_count": 47,
   "metadata": {
    "collapsed": false
   },
   "outputs": [],
   "source": [
    "region_df = pd.DataFrame(df[df.attacktype1_txt == 'Bombing/Explosion'].groupby(['region_txt','iyear']).Incident.sum())"
   ]
  },
  {
   "cell_type": "code",
   "execution_count": 48,
   "metadata": {
    "collapsed": false
   },
   "outputs": [
    {
     "data": {
      "text/html": [
       "<div>\n",
       "<table border=\"1\" class=\"dataframe\">\n",
       "  <thead>\n",
       "    <tr style=\"text-align: right;\">\n",
       "      <th></th>\n",
       "      <th></th>\n",
       "      <th>Incident</th>\n",
       "    </tr>\n",
       "    <tr>\n",
       "      <th>region_txt</th>\n",
       "      <th>iyear</th>\n",
       "      <th></th>\n",
       "    </tr>\n",
       "  </thead>\n",
       "  <tbody>\n",
       "    <tr>\n",
       "      <th rowspan=\"5\" valign=\"top\">Australasia &amp; Oceania</th>\n",
       "      <th>1970</th>\n",
       "      <td>1</td>\n",
       "    </tr>\n",
       "    <tr>\n",
       "      <th>1971</th>\n",
       "      <td>1</td>\n",
       "    </tr>\n",
       "    <tr>\n",
       "      <th>1972</th>\n",
       "      <td>2</td>\n",
       "    </tr>\n",
       "    <tr>\n",
       "      <th>1978</th>\n",
       "      <td>2</td>\n",
       "    </tr>\n",
       "    <tr>\n",
       "      <th>1979</th>\n",
       "      <td>2</td>\n",
       "    </tr>\n",
       "  </tbody>\n",
       "</table>\n",
       "</div>"
      ],
      "text/plain": [
       "                             Incident\n",
       "region_txt            iyear          \n",
       "Australasia & Oceania 1970          1\n",
       "                      1971          1\n",
       "                      1972          2\n",
       "                      1978          2\n",
       "                      1979          2"
      ]
     },
     "execution_count": 48,
     "metadata": {},
     "output_type": "execute_result"
    }
   ],
   "source": [
    "region_df.head()"
   ]
  },
  {
   "cell_type": "code",
   "execution_count": 49,
   "metadata": {
    "collapsed": false
   },
   "outputs": [],
   "source": [
    "region_df2 = region_df.copy().reset_index()"
   ]
  },
  {
   "cell_type": "code",
   "execution_count": 50,
   "metadata": {
    "collapsed": false
   },
   "outputs": [
    {
     "data": {
      "text/html": [
       "<div>\n",
       "<table border=\"1\" class=\"dataframe\">\n",
       "  <thead>\n",
       "    <tr style=\"text-align: right;\">\n",
       "      <th></th>\n",
       "      <th>region_txt</th>\n",
       "      <th>iyear</th>\n",
       "      <th>Incident</th>\n",
       "    </tr>\n",
       "  </thead>\n",
       "  <tbody>\n",
       "    <tr>\n",
       "      <th>0</th>\n",
       "      <td>Australasia &amp; Oceania</td>\n",
       "      <td>1970</td>\n",
       "      <td>1</td>\n",
       "    </tr>\n",
       "    <tr>\n",
       "      <th>1</th>\n",
       "      <td>Australasia &amp; Oceania</td>\n",
       "      <td>1971</td>\n",
       "      <td>1</td>\n",
       "    </tr>\n",
       "    <tr>\n",
       "      <th>2</th>\n",
       "      <td>Australasia &amp; Oceania</td>\n",
       "      <td>1972</td>\n",
       "      <td>2</td>\n",
       "    </tr>\n",
       "    <tr>\n",
       "      <th>3</th>\n",
       "      <td>Australasia &amp; Oceania</td>\n",
       "      <td>1978</td>\n",
       "      <td>2</td>\n",
       "    </tr>\n",
       "    <tr>\n",
       "      <th>4</th>\n",
       "      <td>Australasia &amp; Oceania</td>\n",
       "      <td>1979</td>\n",
       "      <td>2</td>\n",
       "    </tr>\n",
       "  </tbody>\n",
       "</table>\n",
       "</div>"
      ],
      "text/plain": [
       "              region_txt  iyear  Incident\n",
       "0  Australasia & Oceania   1970         1\n",
       "1  Australasia & Oceania   1971         1\n",
       "2  Australasia & Oceania   1972         2\n",
       "3  Australasia & Oceania   1978         2\n",
       "4  Australasia & Oceania   1979         2"
      ]
     },
     "execution_count": 50,
     "metadata": {},
     "output_type": "execute_result"
    }
   ],
   "source": [
    "region_df2.head()"
   ]
  },
  {
   "cell_type": "code",
   "execution_count": 51,
   "metadata": {
    "collapsed": false
   },
   "outputs": [
    {
     "data": {
      "text/html": [
       "<div>\n",
       "<table border=\"1\" class=\"dataframe\">\n",
       "  <thead>\n",
       "    <tr style=\"text-align: right;\">\n",
       "      <th></th>\n",
       "      <th>region_txt</th>\n",
       "      <th>iyear</th>\n",
       "      <th>Incident</th>\n",
       "    </tr>\n",
       "  </thead>\n",
       "  <tbody>\n",
       "    <tr>\n",
       "      <th>251</th>\n",
       "      <td>South America</td>\n",
       "      <td>1970</td>\n",
       "      <td>11</td>\n",
       "    </tr>\n",
       "    <tr>\n",
       "      <th>252</th>\n",
       "      <td>South America</td>\n",
       "      <td>1971</td>\n",
       "      <td>3</td>\n",
       "    </tr>\n",
       "    <tr>\n",
       "      <th>253</th>\n",
       "      <td>South America</td>\n",
       "      <td>1972</td>\n",
       "      <td>8</td>\n",
       "    </tr>\n",
       "    <tr>\n",
       "      <th>254</th>\n",
       "      <td>South America</td>\n",
       "      <td>1973</td>\n",
       "      <td>22</td>\n",
       "    </tr>\n",
       "    <tr>\n",
       "      <th>255</th>\n",
       "      <td>South America</td>\n",
       "      <td>1974</td>\n",
       "      <td>44</td>\n",
       "    </tr>\n",
       "  </tbody>\n",
       "</table>\n",
       "</div>"
      ],
      "text/plain": [
       "        region_txt  iyear  Incident\n",
       "251  South America   1970        11\n",
       "252  South America   1971         3\n",
       "253  South America   1972         8\n",
       "254  South America   1973        22\n",
       "255  South America   1974        44"
      ]
     },
     "execution_count": 51,
     "metadata": {},
     "output_type": "execute_result"
    }
   ],
   "source": [
    "sa_df = region_df2[region_df2.region_txt =='South America']\n",
    "sa_df.head()"
   ]
  },
  {
   "cell_type": "markdown",
   "metadata": {},
   "source": [
    "## South America Bombings 83-03"
   ]
  },
  {
   "cell_type": "code",
   "execution_count": 52,
   "metadata": {
    "collapsed": false
   },
   "outputs": [],
   "source": [
    "sa_df_83_03 = sa_df[(sa_df.iyear >= 1983) & (sa_df.iyear <= 2003)]"
   ]
  },
  {
   "cell_type": "markdown",
   "metadata": {
    "collapsed": true
   },
   "source": [
    "## South America Bombings 83-92"
   ]
  },
  {
   "cell_type": "code",
   "execution_count": 96,
   "metadata": {
    "collapsed": false
   },
   "outputs": [],
   "source": [
    "sa_df_83_92 = sa_df[(sa_df.iyear >= 1983) & (sa_df.iyear <= 1992)]"
   ]
  },
  {
   "cell_type": "code",
   "execution_count": 97,
   "metadata": {
    "collapsed": false
   },
   "outputs": [],
   "source": [
    "mean_83_92 = sa_df[(sa_df.iyear >= 1983) & (sa_df.iyear <= 1992)].Incident.mean()"
   ]
  },
  {
   "cell_type": "markdown",
   "metadata": {},
   "source": [
    "## South America Bombings 94-03"
   ]
  },
  {
   "cell_type": "code",
   "execution_count": 95,
   "metadata": {
    "collapsed": false,
    "scrolled": true
   },
   "outputs": [],
   "source": [
    "sa_df_94_03 = sa_df[(sa_df.iyear >= 1994) & (sa_df.iyear <= 2003)]"
   ]
  },
  {
   "cell_type": "code",
   "execution_count": 98,
   "metadata": {
    "collapsed": false
   },
   "outputs": [],
   "source": [
    "mean_94_03 = sa_df[(sa_df.iyear >= 1994) & (sa_df.iyear <= 2003)].Incident.mean()"
   ]
  },
  {
   "cell_type": "markdown",
   "metadata": {},
   "source": [
    "## South American Min and Max Bombings (1970-2015)"
   ]
  },
  {
   "cell_type": "code",
   "execution_count": 57,
   "metadata": {
    "collapsed": false
   },
   "outputs": [
    {
     "data": {
      "text/plain": [
       "3"
      ]
     },
     "execution_count": 57,
     "metadata": {},
     "output_type": "execute_result"
    }
   ],
   "source": [
    "sa_df.Incident.min()"
   ]
  },
  {
   "cell_type": "code",
   "execution_count": 58,
   "metadata": {
    "collapsed": false
   },
   "outputs": [
    {
     "data": {
      "text/plain": [
       "859"
      ]
     },
     "execution_count": 58,
     "metadata": {},
     "output_type": "execute_result"
    }
   ],
   "source": [
    "sa_df.Incident.max()"
   ]
  },
  {
   "cell_type": "markdown",
   "metadata": {},
   "source": [
    "## PYMC"
   ]
  },
  {
   "cell_type": "code",
   "execution_count": 59,
   "metadata": {
    "collapsed": false
   },
   "outputs": [
    {
     "name": "stdout",
     "output_type": "stream",
     "text": [
      "Couldn't import dot_parser, loading of dot files will not be possible.\n"
     ]
    }
   ],
   "source": [
    "import pymc3 as pm"
   ]
  },
  {
   "cell_type": "code",
   "execution_count": 60,
   "metadata": {
    "collapsed": true
   },
   "outputs": [],
   "source": [
    "SA_pre = sa_df_83_92.Incident.values\n",
    "SA_post = sa_df_94_03.Incident.values"
   ]
  },
  {
   "cell_type": "code",
   "execution_count": 61,
   "metadata": {
    "collapsed": false
   },
   "outputs": [
    {
     "data": {
      "text/plain": [
       "198.46666666666667"
      ]
     },
     "execution_count": 61,
     "metadata": {},
     "output_type": "execute_result"
    }
   ],
   "source": [
    "sa_df.Incident.mean()"
   ]
  },
  {
   "cell_type": "code",
   "execution_count": 62,
   "metadata": {
    "collapsed": false
   },
   "outputs": [
    {
     "name": "stdout",
     "output_type": "stream",
     "text": [
      "198.466666667\n",
      "238.809319142\n"
     ]
    }
   ],
   "source": [
    "prior_mean = sa_df.Incident.mean()\n",
    "prior_std = sa_df.Incident.std()\n",
    "\n",
    "print prior_mean\n",
    "print prior_std"
   ]
  },
  {
   "cell_type": "code",
   "execution_count": 63,
   "metadata": {
    "collapsed": true
   },
   "outputs": [],
   "source": [
    "with pm.Model() as model:\n",
    "    pre_death_mean = pm.Normal('Pre_Death_Mean', prior_mean, sd=prior_std)\n",
    "    post_death_mean = pm.Normal('Post_Death_Mean', prior_mean, sd=prior_std)"
   ]
  },
  {
   "cell_type": "code",
   "execution_count": 64,
   "metadata": {
    "collapsed": false
   },
   "outputs": [],
   "source": [
    "std_prior_lower = 0.01\n",
    "std_prior_upper = 300.0\n",
    "\n",
    "with model:\n",
    "    \n",
    "    pre_death_std = pm.Uniform('Pre_Death_STD', lower=std_prior_lower, upper=std_prior_upper)\n",
    "    post_death_std = pm.Uniform('Post_Death_STD', lower=std_prior_lower, upper=std_prior_upper)"
   ]
  },
  {
   "cell_type": "markdown",
   "metadata": {},
   "source": []
  },
  {
   "cell_type": "code",
   "execution_count": 65,
   "metadata": {
    "collapsed": true
   },
   "outputs": [],
   "source": [
    "with model:\n",
    "\n",
    "    group_pre = pm.Normal('pre', mu=pre_death_mean, sd=pre_death_std, observed=SA_pre)\n",
    "    group_post = pm.Normal('post', mu=post_death_mean, sd=post_death_std, observed=SA_post)"
   ]
  },
  {
   "cell_type": "code",
   "execution_count": 66,
   "metadata": {
    "collapsed": false
   },
   "outputs": [],
   "source": [
    "with model:\n",
    "\n",
    "    diff_of_means = pm.Deterministic('difference of means', pre_death_mean - post_death_mean)\n",
    "    diff_of_stds = pm.Deterministic('difference of stds', pre_death_std - post_death_std)\n",
    "    effect_size = pm.Deterministic('effect size',\n",
    "                                   diff_of_means / np.sqrt((pre_death_std**2 + post_death_std**2) / 2))\n"
   ]
  },
  {
   "cell_type": "code",
   "execution_count": 67,
   "metadata": {
    "collapsed": false,
    "scrolled": true
   },
   "outputs": [
    {
     "name": "stderr",
     "output_type": "stream",
     "text": [
      "Auto-assigning NUTS sampler...\n",
      "Initializing NUTS using advi...\n",
      "Average ELBO = -142.45: 100%|██████████| 200000/200000 [00:18<00:00, 10953.69it/s]\n",
      "Finished [100%]: Average ELBO = -142.14\n",
      "100%|██████████| 25000/25000 [01:02<00:00, 396.97it/s]\n"
     ]
    }
   ],
   "source": [
    "with model:\n",
    "    trace = pm.sample(25000, njobs=4)"
   ]
  },
  {
   "cell_type": "code",
   "execution_count": 69,
   "metadata": {
    "collapsed": false
   },
   "outputs": [
    {
     "data": {
      "text/plain": [
       "array([<matplotlib.axes._subplots.AxesSubplot object at 0x117bc7850>,\n",
       "       <matplotlib.axes._subplots.AxesSubplot object at 0x12d820590>,\n",
       "       <matplotlib.axes._subplots.AxesSubplot object at 0x12c1e8750>,\n",
       "       <matplotlib.axes._subplots.AxesSubplot object at 0x12caf3310>], dtype=object)"
      ]
     },
     "execution_count": 69,
     "metadata": {},
     "output_type": "execute_result"
    },
    {
     "data": {
      "image/png": "[encoded data removed]",
      "text/plain": [
       "<matplotlib.figure.Figure at 0x11e5d39d0>"
      ]
     },
     "metadata": {},
     "output_type": "display_data"
    }
   ],
   "source": [
    "pm.plot_posterior(trace[3000:],\n",
    "                  varnames=['Pre_Death_Mean', 'Post_Death_Mean', 'Pre_Death_STD', 'Post_Death_STD'],\n",
    "                  color='#87ceeb')"
   ]
  },
  {
   "cell_type": "code",
   "execution_count": 70,
   "metadata": {
    "collapsed": false
   },
   "outputs": [
    {
     "data": {
      "text/plain": [
       "array([<matplotlib.axes._subplots.AxesSubplot object at 0x128aadb90>,\n",
       "       <matplotlib.axes._subplots.AxesSubplot object at 0x12c040610>,\n",
       "       <matplotlib.axes._subplots.AxesSubplot object at 0x12be86950>], dtype=object)"
      ]
     },
     "execution_count": 70,
     "metadata": {},
     "output_type": "execute_result"
    },
    {
     "data": {
      "image/png": "[encoded data removed]",
      "text/plain": [
       "<matplotlib.figure.Figure at 0x12b8a2c90>"
      ]
     },
     "metadata": {},
     "output_type": "display_data"
    }
   ],
   "source": [
    "pm.plot_posterior(trace[3000:],\n",
    "                  varnames=['difference of means', 'difference of stds', 'effect size'],\n",
    "                  ref_val=0,\n",
    "                  color='#87ceeb')"
   ]
  },
  {
   "cell_type": "code",
   "execution_count": 71,
   "metadata": {
    "collapsed": false
   },
   "outputs": [
    {
     "name": "stdout",
     "output_type": "stream",
     "text": [
      "\n",
      "difference of means:\n",
      "\n",
      "  Mean             SD               MC Error         95% HPD interval\n",
      "  -------------------------------------------------------------------\n",
      "  \n",
      "  484.882          58.306           0.241            [368.510, 599.633]\n",
      "\n",
      "  Posterior quantiles:\n",
      "  2.5            25             50             75             97.5\n",
      "  |--------------|==============|==============|--------------|\n",
      "  \n",
      "  363.865        448.541        486.654        523.176        595.622\n",
      "\n",
      "\n",
      "difference of stds:\n",
      "\n",
      "  Mean             SD               MC Error         95% HPD interval\n",
      "  -------------------------------------------------------------------\n",
      "  \n",
      "  95.857           46.625           0.237            [13.644, 198.858]\n",
      "\n",
      "  Posterior quantiles:\n",
      "  2.5            25             50             75             97.5\n",
      "  |--------------|==============|==============|--------------|\n",
      "  \n",
      "  15.246         64.010         91.037         123.393        200.818\n",
      "\n",
      "\n",
      "effect size:\n",
      "\n",
      "  Mean             SD               MC Error         95% HPD interval\n",
      "  -------------------------------------------------------------------\n",
      "  \n",
      "  3.926            0.978            0.005            [2.066, 5.840]\n",
      "\n",
      "  Posterior quantiles:\n",
      "  2.5            25             50             75             97.5\n",
      "  |--------------|==============|==============|--------------|\n",
      "  \n",
      "  2.123          3.232          3.899          4.583          5.906\n",
      "\n"
     ]
    }
   ],
   "source": [
    "pm.summary(trace[3000:],\n",
    "           varnames=['difference of means', 'difference of stds', 'effect size'])"
   ]
  },
  {
   "cell_type": "markdown",
   "metadata": {},
   "source": [
    "## Total Bombings by Year"
   ]
  },
  {
   "cell_type": "code",
   "execution_count": 72,
   "metadata": {
    "collapsed": false
   },
   "outputs": [
    {
     "data": {
      "text/plain": [
       "<matplotlib.text.Text at 0x123d2c450>"
      ]
     },
     "execution_count": 72,
     "metadata": {},
     "output_type": "execute_result"
    },
    {
     "data": {
      "image/png": "[encoded data removed]",
      "text/plain": [
       "<matplotlib.figure.Figure at 0x122d4ed90>"
      ]
     },
     "metadata": {},
     "output_type": "display_data"
    }
   ],
   "source": [
    "plt.plot(df1.iyear,df1.Incident)\n",
    "plt.xlabel('Year')\n",
    "plt.ylabel('Total Bombings')\n",
    "plt.title('Total Bombings by Year')"
   ]
  },
  {
   "cell_type": "markdown",
   "metadata": {
    "collapsed": false
   },
   "source": [
    "## Bombings by Region"
   ]
  },
  {
   "cell_type": "code",
   "execution_count": 73,
   "metadata": {
    "collapsed": false
   },
   "outputs": [
    {
     "data": {
      "text/plain": [
       "<matplotlib.text.Text at 0x128967210>"
      ]
     },
     "execution_count": 73,
     "metadata": {},
     "output_type": "execute_result"
    },
    {
     "data": {
      "image/png": "[encoded data removed]",
      "text/plain": [
       "<matplotlib.figure.Figure at 0x121995fd0>"
      ]
     },
     "metadata": {},
     "output_type": "display_data"
    }
   ],
   "source": [
    "sns.barplot(x='region_txt', y='Incident', data=df3)\n",
    "plt.xticks(rotation='vertical')\n",
    "plt.ylabel('Number of Bombings')\n",
    "plt.xlabel('Region')\n",
    "plt.title('Total Bombings by Region (1970-2015)')"
   ]
  },
  {
   "cell_type": "markdown",
   "metadata": {},
   "source": [
    "## Bombings in South America"
   ]
  },
  {
   "cell_type": "code",
   "execution_count": 75,
   "metadata": {
    "collapsed": false
   },
   "outputs": [
    {
     "data": {
      "text/plain": [
       "<matplotlib.text.Text at 0x12b77be10>"
      ]
     },
     "execution_count": 75,
     "metadata": {},
     "output_type": "execute_result"
    },
    {
     "data": {
      "image/png": "[encoded data removed]",
      "text/plain": [
       "<matplotlib.figure.Figure at 0x12b723890>"
      ]
     },
     "metadata": {},
     "output_type": "display_data"
    }
   ],
   "source": [
    "plt.plot(sa_df.iyear, sa_df.Incident)\n",
    "plt.xlabel('Year')\n",
    "plt.ylabel('Bombings')\n",
    "plt.title('Bombings in South America by Year')"
   ]
  },
  {
   "cell_type": "code",
   "execution_count": 76,
   "metadata": {
    "collapsed": false
   },
   "outputs": [
    {
     "data": {
      "text/html": [
       "<div>\n",
       "<table border=\"1\" class=\"dataframe\">\n",
       "  <thead>\n",
       "    <tr style=\"text-align: right;\">\n",
       "      <th></th>\n",
       "      <th>iyear</th>\n",
       "      <th>region_txt</th>\n",
       "      <th>Incident</th>\n",
       "    </tr>\n",
       "  </thead>\n",
       "  <tbody>\n",
       "    <tr>\n",
       "      <th>0</th>\n",
       "      <td>1970</td>\n",
       "      <td>Australasia &amp; Oceania</td>\n",
       "      <td>1</td>\n",
       "    </tr>\n",
       "    <tr>\n",
       "      <th>1</th>\n",
       "      <td>1970</td>\n",
       "      <td>Eastern Europe</td>\n",
       "      <td>8</td>\n",
       "    </tr>\n",
       "    <tr>\n",
       "      <th>2</th>\n",
       "      <td>1970</td>\n",
       "      <td>Middle East &amp; North Africa</td>\n",
       "      <td>14</td>\n",
       "    </tr>\n",
       "    <tr>\n",
       "      <th>3</th>\n",
       "      <td>1970</td>\n",
       "      <td>North America</td>\n",
       "      <td>278</td>\n",
       "    </tr>\n",
       "    <tr>\n",
       "      <th>4</th>\n",
       "      <td>1970</td>\n",
       "      <td>South America</td>\n",
       "      <td>11</td>\n",
       "    </tr>\n",
       "  </tbody>\n",
       "</table>\n",
       "</div>"
      ],
      "text/plain": [
       "   iyear                  region_txt  Incident\n",
       "0   1970       Australasia & Oceania         1\n",
       "1   1970              Eastern Europe         8\n",
       "2   1970  Middle East & North Africa        14\n",
       "3   1970               North America       278\n",
       "4   1970               South America        11"
      ]
     },
     "execution_count": 76,
     "metadata": {},
     "output_type": "execute_result"
    }
   ],
   "source": [
    "df2.head()"
   ]
  },
  {
   "cell_type": "code",
   "execution_count": 77,
   "metadata": {
    "collapsed": false
   },
   "outputs": [
    {
     "data": {
      "text/html": [
       "<div>\n",
       "<table border=\"1\" class=\"dataframe\">\n",
       "  <thead>\n",
       "    <tr style=\"text-align: right;\">\n",
       "      <th></th>\n",
       "      <th>region_txt</th>\n",
       "      <th>Incident</th>\n",
       "      <th>Incident Per Year</th>\n",
       "    </tr>\n",
       "  </thead>\n",
       "  <tbody>\n",
       "    <tr>\n",
       "      <th>0</th>\n",
       "      <td>Australasia &amp; Oceania</td>\n",
       "      <td>72</td>\n",
       "      <td>1.600000</td>\n",
       "    </tr>\n",
       "    <tr>\n",
       "      <th>1</th>\n",
       "      <td>Central America &amp; Caribbean</td>\n",
       "      <td>3239</td>\n",
       "      <td>71.977778</td>\n",
       "    </tr>\n",
       "    <tr>\n",
       "      <th>2</th>\n",
       "      <td>Central Asia</td>\n",
       "      <td>224</td>\n",
       "      <td>4.977778</td>\n",
       "    </tr>\n",
       "    <tr>\n",
       "      <th>3</th>\n",
       "      <td>East Asia</td>\n",
       "      <td>325</td>\n",
       "      <td>7.222222</td>\n",
       "    </tr>\n",
       "    <tr>\n",
       "      <th>4</th>\n",
       "      <td>Eastern Europe</td>\n",
       "      <td>2665</td>\n",
       "      <td>59.222222</td>\n",
       "    </tr>\n",
       "    <tr>\n",
       "      <th>5</th>\n",
       "      <td>Middle East &amp; North Africa</td>\n",
       "      <td>24053</td>\n",
       "      <td>534.511111</td>\n",
       "    </tr>\n",
       "    <tr>\n",
       "      <th>6</th>\n",
       "      <td>North America</td>\n",
       "      <td>1518</td>\n",
       "      <td>33.733333</td>\n",
       "    </tr>\n",
       "    <tr>\n",
       "      <th>7</th>\n",
       "      <td>South America</td>\n",
       "      <td>8931</td>\n",
       "      <td>198.466667</td>\n",
       "    </tr>\n",
       "    <tr>\n",
       "      <th>8</th>\n",
       "      <td>South Asia</td>\n",
       "      <td>18247</td>\n",
       "      <td>405.488889</td>\n",
       "    </tr>\n",
       "    <tr>\n",
       "      <th>9</th>\n",
       "      <td>Southeast Asia</td>\n",
       "      <td>4019</td>\n",
       "      <td>89.311111</td>\n",
       "    </tr>\n",
       "    <tr>\n",
       "      <th>10</th>\n",
       "      <td>Sub-Saharan Africa</td>\n",
       "      <td>4316</td>\n",
       "      <td>95.911111</td>\n",
       "    </tr>\n",
       "    <tr>\n",
       "      <th>11</th>\n",
       "      <td>Western Europe</td>\n",
       "      <td>8354</td>\n",
       "      <td>185.644444</td>\n",
       "    </tr>\n",
       "  </tbody>\n",
       "</table>\n",
       "</div>"
      ],
      "text/plain": [
       "                     region_txt  Incident  Incident Per Year\n",
       "0         Australasia & Oceania        72           1.600000\n",
       "1   Central America & Caribbean      3239          71.977778\n",
       "2                  Central Asia       224           4.977778\n",
       "3                     East Asia       325           7.222222\n",
       "4                Eastern Europe      2665          59.222222\n",
       "5    Middle East & North Africa     24053         534.511111\n",
       "6                 North America      1518          33.733333\n",
       "7                 South America      8931         198.466667\n",
       "8                    South Asia     18247         405.488889\n",
       "9                Southeast Asia      4019          89.311111\n",
       "10           Sub-Saharan Africa      4316          95.911111\n",
       "11               Western Europe      8354         185.644444"
      ]
     },
     "execution_count": 77,
     "metadata": {},
     "output_type": "execute_result"
    }
   ],
   "source": [
    "df4.head(len(df4))"
   ]
  },
  {
   "cell_type": "code",
   "execution_count": 78,
   "metadata": {
    "collapsed": false
   },
   "outputs": [
    {
     "data": {
      "text/html": [
       "<div>\n",
       "<table border=\"1\" class=\"dataframe\">\n",
       "  <thead>\n",
       "    <tr style=\"text-align: right;\">\n",
       "      <th></th>\n",
       "      <th>iyear</th>\n",
       "      <th>region_txt</th>\n",
       "      <th>Incident</th>\n",
       "    </tr>\n",
       "  </thead>\n",
       "  <tbody>\n",
       "    <tr>\n",
       "      <th>191</th>\n",
       "      <td>1990</td>\n",
       "      <td>Australasia &amp; Oceania</td>\n",
       "      <td>1</td>\n",
       "    </tr>\n",
       "    <tr>\n",
       "      <th>192</th>\n",
       "      <td>1990</td>\n",
       "      <td>Central America &amp; Caribbean</td>\n",
       "      <td>172</td>\n",
       "    </tr>\n",
       "    <tr>\n",
       "      <th>193</th>\n",
       "      <td>1990</td>\n",
       "      <td>East Asia</td>\n",
       "      <td>27</td>\n",
       "    </tr>\n",
       "    <tr>\n",
       "      <th>194</th>\n",
       "      <td>1990</td>\n",
       "      <td>Eastern Europe</td>\n",
       "      <td>27</td>\n",
       "    </tr>\n",
       "    <tr>\n",
       "      <th>195</th>\n",
       "      <td>1990</td>\n",
       "      <td>Middle East &amp; North Africa</td>\n",
       "      <td>137</td>\n",
       "    </tr>\n",
       "  </tbody>\n",
       "</table>\n",
       "</div>"
      ],
      "text/plain": [
       "     iyear                   region_txt  Incident\n",
       "191   1990        Australasia & Oceania         1\n",
       "192   1990  Central America & Caribbean       172\n",
       "193   1990                    East Asia        27\n",
       "194   1990               Eastern Europe        27\n",
       "195   1990   Middle East & North Africa       137"
      ]
     },
     "execution_count": 78,
     "metadata": {},
     "output_type": "execute_result"
    }
   ],
   "source": [
    "df_9096 = df2[(df2.iyear >= 1990) & (df2.iyear <= 1996)]\n",
    "df_9096.head()"
   ]
  },
  {
   "cell_type": "markdown",
   "metadata": {},
   "source": [
    "## Predicted Bombings in 1993 by Region"
   ]
  },
  {
   "cell_type": "code",
   "execution_count": 79,
   "metadata": {
    "collapsed": false
   },
   "outputs": [
    {
     "name": "stdout",
     "output_type": "stream",
     "text": [
      "Mean of Australasia & Oceania: 3\n"
     ]
    }
   ],
   "source": [
    "aus = df_9096[df_9096.region_txt == 'Australasia & Oceania'].Incident.sum() / 6\n",
    "print('Mean of Australasia & Oceania: ' + str(aus))"
   ]
  },
  {
   "cell_type": "code",
   "execution_count": 80,
   "metadata": {
    "collapsed": false
   },
   "outputs": [
    {
     "name": "stdout",
     "output_type": "stream",
     "text": [
      "Mean of Central America & Caribbean: 111\n"
     ]
    }
   ],
   "source": [
    "cAmer = df_9096[df_9096.region_txt == 'Central America & Caribbean'].Incident.sum() / 6\n",
    "print('Mean of Central America & Caribbean: ' + str(cAmer))"
   ]
  },
  {
   "cell_type": "code",
   "execution_count": 81,
   "metadata": {
    "collapsed": false
   },
   "outputs": [
    {
     "name": "stdout",
     "output_type": "stream",
     "text": [
      "Mean of Central Asia: 13\n"
     ]
    }
   ],
   "source": [
    "cAsia = df_9096[df_9096.region_txt == 'Central Asia'].Incident.sum() / 6\n",
    "print('Mean of Central Asia: ' + str(cAsia))"
   ]
  },
  {
   "cell_type": "code",
   "execution_count": 82,
   "metadata": {
    "collapsed": false
   },
   "outputs": [
    {
     "name": "stdout",
     "output_type": "stream",
     "text": [
      "Mean of East Asia: 22\n"
     ]
    }
   ],
   "source": [
    "eAsia = df_9096[df_9096.region_txt == 'East Asia'].Incident.sum() / 6\n",
    "print('Mean of East Asia: ' + str(eAsia))"
   ]
  },
  {
   "cell_type": "code",
   "execution_count": 83,
   "metadata": {
    "collapsed": false
   },
   "outputs": [
    {
     "name": "stdout",
     "output_type": "stream",
     "text": [
      "Mean of Eastern Europe: 49\n"
     ]
    }
   ],
   "source": [
    "eEurope = df_9096[df_9096.region_txt == 'Eastern Europe'].Incident.sum() / 6\n",
    "print('Mean of Eastern Europe: ' + str(eEurope))"
   ]
  },
  {
   "cell_type": "code",
   "execution_count": 84,
   "metadata": {
    "collapsed": false
   },
   "outputs": [
    {
     "name": "stdout",
     "output_type": "stream",
     "text": [
      "Mean of Middle East & North Africa: 213\n"
     ]
    }
   ],
   "source": [
    "middle_east = df_9096[df_9096.region_txt == 'Middle East & North Africa'].Incident.sum() / 6\n",
    "print('Mean of Middle East & North Africa: ' + str(middle_east))"
   ]
  },
  {
   "cell_type": "code",
   "execution_count": 85,
   "metadata": {
    "collapsed": false
   },
   "outputs": [
    {
     "name": "stdout",
     "output_type": "stream",
     "text": [
      "Mean of North America: 14\n"
     ]
    }
   ],
   "source": [
    "nAmer = df_9096[df_9096.region_txt == 'North America'].Incident.sum() / 6\n",
    "print('Mean of North America: ' + str(nAmer))"
   ]
  },
  {
   "cell_type": "code",
   "execution_count": 86,
   "metadata": {
    "collapsed": false
   },
   "outputs": [
    {
     "name": "stdout",
     "output_type": "stream",
     "text": [
      "Mean of South America: 383\n"
     ]
    }
   ],
   "source": [
    "sAmer = df_9096[df_9096.region_txt == 'South America'].Incident.sum() / 6\n",
    "print('Mean of South America: ' + str(sAmer))"
   ]
  },
  {
   "cell_type": "code",
   "execution_count": 87,
   "metadata": {
    "collapsed": false
   },
   "outputs": [
    {
     "name": "stdout",
     "output_type": "stream",
     "text": [
      "Mean of South Asia: 179\n"
     ]
    }
   ],
   "source": [
    "sAsia = df_9096[df_9096.region_txt == 'South Asia'].Incident.sum() / 6\n",
    "print('Mean of South Asia: ' + str(sAsia))"
   ]
  },
  {
   "cell_type": "code",
   "execution_count": 88,
   "metadata": {
    "collapsed": false
   },
   "outputs": [
    {
     "name": "stdout",
     "output_type": "stream",
     "text": [
      "Mean of Southeast Asia: 81\n"
     ]
    }
   ],
   "source": [
    "seAsia = df_9096[df_9096.region_txt == 'Southeast Asia'].Incident.sum() / 6\n",
    "print('Mean of Southeast Asia: ' + str(seAsia))"
   ]
  },
  {
   "cell_type": "code",
   "execution_count": 89,
   "metadata": {
    "collapsed": false
   },
   "outputs": [
    {
     "name": "stdout",
     "output_type": "stream",
     "text": [
      "Mean of Sub-Saharan Africa: 98\n"
     ]
    }
   ],
   "source": [
    "ssAfr = df_9096[df_9096.region_txt == 'Sub-Saharan Africa'].Incident.sum() / 6\n",
    "print('Mean of Sub-Saharan Africa: ' + str(ssAfr))"
   ]
  },
  {
   "cell_type": "code",
   "execution_count": 90,
   "metadata": {
    "collapsed": false
   },
   "outputs": [
    {
     "name": "stdout",
     "output_type": "stream",
     "text": [
      "Mean of Western Europe: 265\n"
     ]
    }
   ],
   "source": [
    "wEurope = df_9096[df_9096.region_txt == 'Western Europe'].Incident.sum() / 6\n",
    "print('Mean of Western Europe: ' + str(wEurope))"
   ]
  },
  {
   "cell_type": "markdown",
   "metadata": {},
   "source": [
    "## Total Predicted Bombings in 1993"
   ]
  },
  {
   "cell_type": "code",
   "execution_count": 91,
   "metadata": {
    "collapsed": false
   },
   "outputs": [
    {
     "data": {
      "text/plain": [
       "1431"
      ]
     },
     "execution_count": 91,
     "metadata": {},
     "output_type": "execute_result"
    }
   ],
   "source": [
    "df_pred = aus + cAmer + cAsia + eAsia + eEurope + middle_east + nAmer + sAmer + sAsia + seAsia + ssAfr + wEurope\n",
    "df_pred"
   ]
  },
  {
   "cell_type": "markdown",
   "metadata": {},
   "source": [
    "## Appendix Info"
   ]
  },
  {
   "cell_type": "code",
   "execution_count": 92,
   "metadata": {
    "collapsed": false
   },
   "outputs": [
    {
     "name": "stdout",
     "output_type": "stream",
     "text": [
      "0.370858077287\n"
     ]
    }
   ],
   "source": [
    "## Percentage of attacks (from 1990-1996) that were bombings \n",
    "\n",
    "len_9096_bomb = len(df[(df.iyear>=1990) & (df.iyear<=1996) & (df.attacktype1_txt == 'Bombing/Explosion')]) \n",
    "len_9096 = float(len(df[(df.iyear>=1990) & (df.iyear<=1996)]))\n",
    "pct_bombings = len_9096_bomb / len_9096\n",
    "print(pct_bombings)"
   ]
  },
  {
   "cell_type": "code",
   "execution_count": 93,
   "metadata": {
    "collapsed": false,
    "scrolled": true
   },
   "outputs": [
    {
     "name": "stdout",
     "output_type": "stream",
     "text": [
      "Prediction based off the appendix: 1837.0\n"
     ]
    }
   ],
   "source": [
    "appendix_pred = round(pct_bombings * 4954)\n",
    "print('Prediction based off the appendix: ' + str(appendix_pred))"
   ]
  },
  {
   "cell_type": "markdown",
   "metadata": {},
   "source": [
    "## Aggregate Prediction"
   ]
  },
  {
   "cell_type": "code",
   "execution_count": 94,
   "metadata": {
    "collapsed": false
   },
   "outputs": [
    {
     "name": "stdout",
     "output_type": "stream",
     "text": [
      "Aggregate Prediction of 1993 Bombings: 1634.0\n"
     ]
    }
   ],
   "source": [
    "agg_pred = round((df_pred + appendix_pred) / 2)\n",
    "print('Aggregate Prediction of 1993 Bombings: ' + str(agg_pred))"
   ]
  },
  {
   "cell_type": "code",
   "execution_count": null,
   "metadata": {
    "collapsed": true
   },
   "outputs": [],
   "source": []
  }
 ],
 "metadata": {
  "anaconda-cloud": {},
  "kernelspec": {
   "display_name": "Python [conda root]",
   "language": "python",
   "name": "conda-root-py"
  },
  "language_info": {
   "codemirror_mode": {
    "name": "ipython",
    "version": 2
   },
   "file_extension": ".py",
   "mimetype": "text/x-python",
   "name": "python",
   "nbconvert_exporter": "python",
   "pygments_lexer": "ipython2",
   "version": "2.7.12"
  }
 },
 "nbformat": 4,
 "nbformat_minor": 1
}
